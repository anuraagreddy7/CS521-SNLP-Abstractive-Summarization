{
  "cells": [
    {
      "cell_type": "code",
      "execution_count": 1,
      "metadata": {
        "id": "hEEkd5Qos20x"
      },
      "outputs": [],
      "source": [
        "import pandas as pd\n",
        "import numpy as np\n",
        "import os\n",
        "import re\n",
        "import warnings\n",
        "warnings.filterwarnings(\"ignore\")\n",
        "from sklearn import datasets, linear_model\n",
        "from sklearn.model_selection import train_test_split\n",
        "from matplotlib import pyplot as plt\n",
        "from bs4 import BeautifulSoup\n",
        "from nltk.corpus import stopwords"
      ]
    },
    {
      "cell_type": "code",
      "execution_count": 2,
      "metadata": {
        "colab": {
          "base_uri": "https://localhost:8080/"
        },
        "id": "Yb60OegVKFvA",
        "outputId": "eb84b1d4-35f3-4896-b724-67d713938f00"
      },
      "outputs": [
        {
          "name": "stderr",
          "output_type": "stream",
          "text": [
            "[nltk_data] Downloading package stopwords to\n",
            "[nltk_data]     /Users/anuraagreddy/nltk_data...\n",
            "[nltk_data]   Package stopwords is already up-to-date!\n"
          ]
        },
        {
          "data": {
            "text/plain": [
              "True"
            ]
          },
          "execution_count": 2,
          "metadata": {},
          "output_type": "execute_result"
        }
      ],
      "source": [
        "import nltk\n",
        "nltk.download('stopwords')"
      ]
    },
    {
      "cell_type": "code",
      "execution_count": 3,
      "metadata": {
        "id": "c61IdvLUtvKh"
      },
      "outputs": [],
      "source": [
        "# read data from the csv file (from the location it is stored)\n",
        "Data = pd.read_csv(\"/Users/anuraagreddy/Desktop/MS(UIC)/Spring '25/CS 521 (SNLP)/Stat NLP Project/CS521_TextSummarization_Project/wikihowAll_Dataset.csv\")\n",
        "Data = Data.astype(str)\n",
        "rows, columns = Data.shape"
      ]
    },
    {
      "cell_type": "code",
      "execution_count": 4,
      "metadata": {
        "colab": {
          "base_uri": "https://localhost:8080/",
          "height": 419
        },
        "id": "JS1b4wJtw_xG",
        "outputId": "72daa5be-6262-4b41-c444-99d31a8f29aa"
      },
      "outputs": [
        {
          "data": {
            "text/html": [
              "<div>\n",
              "<style scoped>\n",
              "    .dataframe tbody tr th:only-of-type {\n",
              "        vertical-align: middle;\n",
              "    }\n",
              "\n",
              "    .dataframe tbody tr th {\n",
              "        vertical-align: top;\n",
              "    }\n",
              "\n",
              "    .dataframe thead th {\n",
              "        text-align: right;\n",
              "    }\n",
              "</style>\n",
              "<table border=\"1\" class=\"dataframe\">\n",
              "  <thead>\n",
              "    <tr style=\"text-align: right;\">\n",
              "      <th></th>\n",
              "      <th>headline</th>\n",
              "      <th>title</th>\n",
              "      <th>text</th>\n",
              "    </tr>\n",
              "  </thead>\n",
              "  <tbody>\n",
              "    <tr>\n",
              "      <th>0</th>\n",
              "      <td>\\nKeep related supplies in the same area.,\\nMa...</td>\n",
              "      <td>How to Be an Organized Artist1</td>\n",
              "      <td>If you're a photographer, keep all the necess...</td>\n",
              "    </tr>\n",
              "    <tr>\n",
              "      <th>1</th>\n",
              "      <td>\\nCreate a sketch in the NeoPopRealist manner ...</td>\n",
              "      <td>How to Create a Neopoprealist Art Work</td>\n",
              "      <td>See the image for how this drawing develops s...</td>\n",
              "    </tr>\n",
              "    <tr>\n",
              "      <th>2</th>\n",
              "      <td>\\nGet a bachelor‚Äôs degree.,\\nEnroll in a stu...</td>\n",
              "      <td>How to Be a Visual Effects Artist1</td>\n",
              "      <td>It is possible to become a VFX artist without...</td>\n",
              "    </tr>\n",
              "    <tr>\n",
              "      <th>3</th>\n",
              "      <td>\\nStart with some experience or interest in ar...</td>\n",
              "      <td>How to Become an Art Investor</td>\n",
              "      <td>The best art investors do their research on t...</td>\n",
              "    </tr>\n",
              "    <tr>\n",
              "      <th>4</th>\n",
              "      <td>\\nKeep your reference materials, sketches, art...</td>\n",
              "      <td>How to Be an Organized Artist2</td>\n",
              "      <td>As you start planning for a project or work, ...</td>\n",
              "    </tr>\n",
              "    <tr>\n",
              "      <th>...</th>\n",
              "      <td>...</td>\n",
              "      <td>...</td>\n",
              "      <td>...</td>\n",
              "    </tr>\n",
              "    <tr>\n",
              "      <th>1494</th>\n",
              "      <td>\\nScout your yard.,\\nCreate a grip.,\\nWrap the...</td>\n",
              "      <td>How to Build a Squirrel House2</td>\n",
              "      <td>Plan to spend a day watching your yard to wit...</td>\n",
              "    </tr>\n",
              "    <tr>\n",
              "      <th>1495</th>\n",
              "      <td>\\nAsk for pedigree papers.,\\nGet a DNA test.,\\...</td>\n",
              "      <td>How to Identify Birman Cats2</td>\n",
              "      <td>Cats like the Birman that are more exclusive ...</td>\n",
              "    </tr>\n",
              "    <tr>\n",
              "      <th>1496</th>\n",
              "      <td>\\nDo a search on the Internet for \"Birman\" cat...</td>\n",
              "      <td>How to Identify Birman Cats3</td>\n",
              "      <td>This can help you find any breeders in your a...</td>\n",
              "    </tr>\n",
              "    <tr>\n",
              "      <th>1497</th>\n",
              "      <td>\\nTake good care of your Bengal cat.,\\nPlay wi...</td>\n",
              "      <td>How to Keep a Bengal Cat Happy</td>\n",
              "      <td>Make sure everything is done correctly, so yo...</td>\n",
              "    </tr>\n",
              "    <tr>\n",
              "      <th>1498</th>\n",
              "      <td>\\nDecide which spotted cat you're looking at.,...</td>\n",
              "      <td>How to Identify Feline Species by Fur</td>\n",
              "      <td>If you're trying to work out which spotted gr...</td>\n",
              "    </tr>\n",
              "  </tbody>\n",
              "</table>\n",
              "<p>1499 rows × 3 columns</p>\n",
              "</div>"
            ],
            "text/plain": [
              "                                               headline  \\\n",
              "0     \\nKeep related supplies in the same area.,\\nMa...   \n",
              "1     \\nCreate a sketch in the NeoPopRealist manner ...   \n",
              "2     \\nGet a bachelor‚Äôs degree.,\\nEnroll in a stu...   \n",
              "3     \\nStart with some experience or interest in ar...   \n",
              "4     \\nKeep your reference materials, sketches, art...   \n",
              "...                                                 ...   \n",
              "1494  \\nScout your yard.,\\nCreate a grip.,\\nWrap the...   \n",
              "1495  \\nAsk for pedigree papers.,\\nGet a DNA test.,\\...   \n",
              "1496  \\nDo a search on the Internet for \"Birman\" cat...   \n",
              "1497  \\nTake good care of your Bengal cat.,\\nPlay wi...   \n",
              "1498  \\nDecide which spotted cat you're looking at.,...   \n",
              "\n",
              "                                       title  \\\n",
              "0             How to Be an Organized Artist1   \n",
              "1     How to Create a Neopoprealist Art Work   \n",
              "2         How to Be a Visual Effects Artist1   \n",
              "3              How to Become an Art Investor   \n",
              "4             How to Be an Organized Artist2   \n",
              "...                                      ...   \n",
              "1494          How to Build a Squirrel House2   \n",
              "1495            How to Identify Birman Cats2   \n",
              "1496            How to Identify Birman Cats3   \n",
              "1497          How to Keep a Bengal Cat Happy   \n",
              "1498   How to Identify Feline Species by Fur   \n",
              "\n",
              "                                                   text  \n",
              "0      If you're a photographer, keep all the necess...  \n",
              "1      See the image for how this drawing develops s...  \n",
              "2      It is possible to become a VFX artist without...  \n",
              "3      The best art investors do their research on t...  \n",
              "4      As you start planning for a project or work, ...  \n",
              "...                                                 ...  \n",
              "1494   Plan to spend a day watching your yard to wit...  \n",
              "1495   Cats like the Birman that are more exclusive ...  \n",
              "1496   This can help you find any breeders in your a...  \n",
              "1497   Make sure everything is done correctly, so yo...  \n",
              "1498   If you're trying to work out which spotted gr...  \n",
              "\n",
              "[1499 rows x 3 columns]"
            ]
          },
          "execution_count": 4,
          "metadata": {},
          "output_type": "execute_result"
        }
      ],
      "source": [
        "Data"
      ]
    },
    {
      "cell_type": "code",
      "execution_count": 5,
      "metadata": {
        "id": "uWTmu1FbCUuS"
      },
      "outputs": [],
      "source": [
        "# Filtering rows where 'text' and 'headline' columns are not null\n",
        "df = Data[(Data['text'].notna()) & (Data['headline'].notna())]\n",
        "\n",
        "# Removing rows where the 'text' column has 'nan' as its value\n",
        "df = df[df['text'] != 'nan']\n",
        "\n",
        "# Dropping duplicate entries based on the 'text' column\n",
        "df = df.drop_duplicates(subset='text', inplace=False)\n"
      ]
    },
    {
      "cell_type": "code",
      "execution_count": 6,
      "metadata": {
        "id": "yW3xqCcEyhDb"
      },
      "outputs": [],
      "source": [
        "# Set of stopwords\n",
        "english_stopwords = set(stopwords.words('english'))\n",
        "\n",
        "def clean_text_input(input_text, mode):\n",
        "    modified_text = input_text.lower()\n",
        "    modified_text = BeautifulSoup(modified_text, \"lxml\").get_text()\n",
        "    modified_text = re.sub(r'\\([^)]*\\)', '', modified_text)\n",
        "    modified_text = modified_text.replace('\"', '')\n",
        "    modified_text = ' '.join([contraction_mapping.get(word, word) for word in modified_text.split()])\n",
        "    modified_text = re.sub(r\"'s\\b\", \"\", modified_text)\n",
        "    modified_text = re.sub(\"[^a-zA-Z]\", \" \", modified_text)\n",
        "    modified_text = re.sub('[m]{2,}', 'mm', modified_text)\n",
        "\n",
        "    if mode == 0:\n",
        "        modified_text = re.sub(r'\\.', ' . ', modified_text)\n",
        "        words_list = [word for word in modified_text.split() if word not in english_stopwords]\n",
        "    else:\n",
        "        words_list = modified_text.split()\n",
        "\n",
        "    # Filter out single-character words\n",
        "    longer_words = [word for word in words_list if len(word) > 1]\n",
        "    return \" \".join(longer_words).strip()\n"
      ]
    },
    {
      "cell_type": "code",
      "execution_count": 7,
      "metadata": {
        "id": "RUozoMqQ1Pes"
      },
      "outputs": [],
      "source": [
        "# Flat contraction mapping\n",
        "contraction_mapping = {\n",
        "    \"I'd\": \"I would\", \"I'd've\": \"I would have\", \"I'll\": \"I will\", \"I'll've\": \"I will have\",\n",
        "    \"I'm\": \"I am\", \"I've\": \"I have\",\n",
        "    \"you'd\": \"you would\", \"you'd've\": \"you would have\", \"you'll\": \"you will\",\n",
        "    \"you'll've\": \"you will have\", \"you're\": \"you are\", \"you've\": \"you have\",\n",
        "    \"he'd\": \"he would\", \"he'll\": \"he will\", \"he's\": \"he is\",\n",
        "    \"she'd\": \"she would\", \"she'd've\": \"she would have\", \"she'll\": \"she will\",\n",
        "    \"she'll've\": \"she will have\", \"she's\": \"she is\",\n",
        "    \"it'd\": \"it would\", \"it'd've\": \"it would have\", \"it'll\": \"it will\",\n",
        "    \"it'll've\": \"it will have\", \"it's\": \"it is\",\n",
        "    \"we'd\": \"we would\", \"we'd've\": \"we would have\", \"we'll\": \"we will\",\n",
        "    \"we'll've\": \"we will have\", \"we're\": \"we are\", \"we've\": \"we have\",\n",
        "    \"they'd\": \"they would\", \"they'd've\": \"they would have\", \"they'll\": \"they will\",\n",
        "    \"they'll've\": \"they will have\", \"they're\": \"they are\", \"they've\": \"they have\",\n",
        "    \"aren't\": \"are not\", \"can't\": \"cannot\", \"couldn't\": \"could not\", \"didn't\": \"did not\",\n",
        "    \"doesn't\": \"does not\", \"don't\": \"do not\", \"hadn't\": \"had not\", \"hasn't\": \"has not\",\n",
        "    \"haven't\": \"have not\", \"isn't\": \"is not\", \"mustn't\": \"must not\", \"shan't\": \"shall not\",\n",
        "    \"shouldn't\": \"should not\", \"wasn't\": \"was not\", \"weren't\": \"were not\", \"won't\": \"will not\",\n",
        "    \"wouldn't\": \"would not\", \"'cause\": \"because\", \"o'clock\": \"of the clock\", \"ma'am\": \"madam\", \"let's\": \"let us\"\n",
        "}\n"
      ]
    },
    {
      "cell_type": "code",
      "execution_count": 8,
      "metadata": {
        "id": "1fmqZ6fb60np"
      },
      "outputs": [],
      "source": [
        "cleaned_texts_list = []\n",
        "for t in df['text']:\n",
        "    cleaned_texts_list.append(clean_text_input(t, 0))"
      ]
    },
    {
      "cell_type": "code",
      "execution_count": 9,
      "metadata": {
        "id": "EVI9HLowAf62"
      },
      "outputs": [],
      "source": [
        "#call the function\n",
        "clean_summary = []\n",
        "for t in df['headline']:\n",
        "    clean_summary.append(clean_text_input(t,0))"
      ]
    },
    {
      "cell_type": "code",
      "execution_count": 10,
      "metadata": {
        "id": "a50C4-IU9Gb7"
      },
      "outputs": [],
      "source": [
        "df['text']=cleaned_texts_list\n",
        "df['headline']=clean_summary\n",
        "\n",
        "df.replace('', np.nan, inplace=True)\n",
        "df.dropna(axis=0,inplace=True)"
      ]
    },
    {
      "cell_type": "markdown",
      "metadata": {
        "id": "aC7uHaPoNcH5"
      },
      "source": [
        "Updating the df"
      ]
    },
    {
      "cell_type": "markdown",
      "metadata": {},
      "source": []
    },
    {
      "cell_type": "markdown",
      "metadata": {
        "id": "0fGQUB8kOyaO"
      },
      "source": [
        "**Analyzing the sequence distribution**"
      ]
    },
    {
      "cell_type": "code",
      "execution_count": 11,
      "metadata": {
        "colab": {
          "base_uri": "https://localhost:8080/",
          "height": 602
        },
        "id": "h306jOy2N6ui",
        "outputId": "a971dddb-8c94-484d-ba29-ac2930cff0ab"
      },
      "outputs": [
        {
          "data": {
            "image/png": "[encoded data removed]",
            "text/plain": [
              "<Figure size 1200x600 with 2 Axes>"
            ]
          },
          "metadata": {},
          "output_type": "display_data"
        }
      ],
      "source": [
        "import pandas as pd\n",
        "import matplotlib.pyplot as plt\n",
        "\n",
        "# Assuming your DataFrame 'df' and list calculations are correct\n",
        "text_word_count = [len(i.split()) for i in df['text']]\n",
        "headline_word_count = [len(j.split()) for j in df['headline']]\n",
        "length_df = pd.DataFrame({'text': text_word_count, 'headline': headline_word_count})\n",
        "\n",
        "fig, axes = plt.subplots(nrows=1, ncols=2, figsize=(12, 6))\n",
        "length_df['text'].hist(bins=30, range=[0, 1000], alpha=0.75, ax=axes[0])\n",
        "length_df['headline'].hist(bins=30, range=[0, 1000], alpha=0.75, ax=axes[1])\n",
        "\n",
        "axes[0].set_title('Text Word Count')\n",
        "axes[1].set_title('Headline Word Count')\n",
        "axes[0].set_xlabel('Word Count')\n",
        "axes[0].set_ylabel('Frequency')\n",
        "axes[1].set_xlabel('Word Count')\n",
        "\n",
        "plt.suptitle('Word Count Distribution in Text and Headlines')\n",
        "plt.show()\n"
      ]
    },
    {
      "cell_type": "code",
      "execution_count": 12,
      "metadata": {
        "id": "9ApVnUxJPXYT"
      },
      "outputs": [],
      "source": [
        "# From the graph\n",
        "# We can fix maximum length of text = 150 since most of the reviews have a length of 150 and maximum headline length of 50, since maximum headlines are of size 40\n",
        "\n",
        "max_len_text= 150\n",
        "max_len_headline=50"
      ]
    },
    {
      "cell_type": "code",
      "execution_count": 13,
      "metadata": {
        "colab": {
          "base_uri": "https://localhost:8080/"
        },
        "id": "YBPwN7lmGj6v",
        "outputId": "e0681665-1529-4429-91e8-9ff5b267e57f"
      },
      "outputs": [
        {
          "name": "stdout",
          "output_type": "stream",
          "text": [
            "0.9979892761394102\n"
          ]
        }
      ],
      "source": [
        "cnt=0\n",
        "for i in df['text']:\n",
        "    if(len(i.split())<=1500):\n",
        "        cnt=cnt+1\n",
        "print(cnt/len(df['text']))"
      ]
    },
    {
      "cell_type": "markdown",
      "metadata": {
        "id": "dbjBRO7BIobl"
      },
      "source": [
        "Selecting text and headlines below the maximum lengths"
      ]
    },
    {
      "cell_type": "code",
      "execution_count": 14,
      "metadata": {
        "id": "DLEMfHWTIoHy"
      },
      "outputs": [],
      "source": [
        "text1 =np.array(df['text'])\n",
        "headline1=np.array(df['headline'])\n",
        "\n",
        "short_text=[]\n",
        "short_summary=[]\n",
        "\n",
        "for i in range(len(text1)):\n",
        "    if(len(headline1[i].split())<=50 and len(text1[i].split())<=150):\n",
        "        short_text.append(text1[i])\n",
        "        short_summary.append(headline1[i])\n",
        "\n",
        "df=pd.DataFrame({'text':short_text,'summary':short_summary})"
      ]
    },
    {
      "cell_type": "code",
      "execution_count": 15,
      "metadata": {
        "id": "-2cdR4iXImwQ"
      },
      "outputs": [],
      "source": [
        "# Validating the lengths\n",
        "\n",
        "text1 =np.array(df['text'])\n",
        "headline1=np.array(df['summary'])\n",
        "\n",
        "\n",
        "for i in range(len(text1)):\n",
        "    if(len(headline1[i].split())>=150):\n",
        "      print(i)\n"
      ]
    },
    {
      "cell_type": "code",
      "execution_count": 16,
      "metadata": {
        "colab": {
          "base_uri": "https://localhost:8080/"
        },
        "id": "ytlW3ABFo2-M",
        "outputId": "c3272c34-4e3b-4cce-93ab-d98552187991"
      },
      "outputs": [
        {
          "name": "stdout",
          "output_type": "stream",
          "text": [
            "guy like every facebook status update instagram picture post better yet frequently comment posts sign wants interact may indicate likes look see comments people posts well comments frequently may reveal avid social media user however rarely likes comments posts sign might feelings publicly comments one photos posts respond eager start conversation way may reveal likes least enjoys messaging example may say great photo could respond saying vancouver last week beautiful city guy met starts liking commenting old photos sig interested means spent time looking back old photos probably wants know better enjoys looking pictures guy likes want connect follow variety different social media platforms example may add facebook snapchat start following twitter instagram adding number social media sites likely sign wants look posts photos selfies attempt get know better\n",
            "see interacts posts reply comments notice comments old pictures posts check see added multiple social media platforms\n"
          ]
        }
      ],
      "source": [
        "print(df['text'][50],df['summary'][50],sep='\\n')"
      ]
    },
    {
      "cell_type": "markdown",
      "metadata": {
        "id": "dGoWWbOiXbxK"
      },
      "source": [
        "**Splitting data into train, test  --  70 - 30**"
      ]
    },
    {
      "cell_type": "code",
      "execution_count": 46,
      "metadata": {
        "id": "R8BhLDriRM_m"
      },
      "outputs": [],
      "source": [
        "from sklearn.model_selection import train_test_split\n",
        "x_texts = df['text'].astype(str).tolist()\n",
        "y_texts = ['starttoken ' + str(summary) + ' endtoken' for summary in df['summary'].astype(str).tolist()]\n",
        "\n",
        "# Split raw text and summaries\n",
        "x_tr_texts, x_val_texts, y_tr_texts, y_val_texts = train_test_split(\n",
        "    df['text'].astype(str), df['summary'].astype(str),\n",
        "    test_size=0.3, random_state=0, shuffle=True\n",
        ")\n",
        "\n",
        "# Add start and end tokens to summaries\n",
        "y_tr_texts = ['starttoken ' + text + ' endtoken' for text in y_tr_texts]\n",
        "y_val_texts = ['starttoken ' + text + ' endtoken' for text in y_val_texts]\n",
        "\n"
      ]
    },
    {
      "cell_type": "code",
      "execution_count": 18,
      "metadata": {},
      "outputs": [
        {
          "name": "stdout",
          "output_type": "stream",
          "text": [
            "Index(['text', 'summary'], dtype='object')\n"
          ]
        }
      ],
      "source": [
        "print(df.columns)\n"
      ]
    },
    {
      "cell_type": "code",
      "execution_count": 47,
      "metadata": {
        "colab": {
          "base_uri": "https://localhost:8080/"
        },
        "id": "0qelmpQLQD5F",
        "outputId": "5bbbcc53-3322-46d1-a221-201e5169d8d2"
      },
      "outputs": [],
      "source": [
        "from tensorflow.keras.preprocessing.text import Tokenizer\n",
        "from tensorflow.keras.preprocessing.sequence import pad_sequences\n",
        "import numpy as np\n",
        "\n",
        "# 1. Tokenizer for input text (x)\n",
        "x_tokenizer = Tokenizer(oov_token='<OOV>')\n",
        "x_tokenizer.fit_on_texts(x_tr_texts)\n",
        "\n",
        "# 2. Tokenizer for summaries (y)\n",
        "y_tokenizer = Tokenizer(oov_token='<OOV>')\n",
        "y_tokenizer.fit_on_texts(y_tr_texts)\n",
        "\n",
        "# 3. Convert texts to sequences\n",
        "x_tr_seq = x_tokenizer.texts_to_sequences(x_tr_texts)\n",
        "x_val_seq = x_tokenizer.texts_to_sequences(x_val_texts)\n",
        "\n",
        "y_tr_seq = y_tokenizer.texts_to_sequences(y_tr_texts)\n",
        "y_val_seq = y_tokenizer.texts_to_sequences(y_val_texts)\n",
        "\n",
        "# 4. Define max lengths\n",
        "max_len_text = 48\n",
        "max_len_summary = 49\n",
        "\n",
        "# 5. Pad sequences\n",
        "x_tr = pad_sequences(x_tr_seq, maxlen=max_len_text, padding='post')\n",
        "x_val = pad_sequences(x_val_seq, maxlen=max_len_text, padding='post')\n",
        "\n",
        "y_tr = pad_sequences(y_tr_seq, maxlen=max_len_summary, padding='post')\n",
        "y_val = pad_sequences(y_val_seq, maxlen=max_len_summary, padding='post')\n",
        "\n",
        "# 6. Vocabulary sizes\n",
        "x_voc_size = len(x_tokenizer.word_index) + 1\n",
        "y_voc_size = len(y_tokenizer.word_index) + 1\n",
        "\n",
        "# 7. For inference decoding\n",
        "target_word_index = y_tokenizer.word_index\n",
        "reverse_target_word_index = y_tokenizer.index_word\n"
      ]
    },
    {
      "cell_type": "code",
      "execution_count": 20,
      "metadata": {
        "colab": {
          "base_uri": "https://localhost:8080/"
        },
        "id": "g6t-s8j_QNm4",
        "outputId": "cb62fc63-f575-4b8a-d1c3-7b1ba2d21a4a"
      },
      "outputs": [
        {
          "name": "stdout",
          "output_type": "stream",
          "text": [
            "% of rare words in vocabulary: 72.34996102883866\n",
            "Total Coverage of rare words: 18.91712398196372\n"
          ]
        }
      ],
      "source": [
        "thresh=4\n",
        "\n",
        "cnt=0\n",
        "tot_cnt=0\n",
        "freq=0\n",
        "tot_freq=0\n",
        "\n",
        "for key,value in x_tokenizer.word_counts.items():\n",
        "    tot_cnt=tot_cnt+1\n",
        "    tot_freq=tot_freq+value\n",
        "    if(value<thresh):\n",
        "        cnt=cnt+1\n",
        "        freq=freq+value\n",
        "\n",
        "print(\"% of rare words in vocabulary:\",(cnt/tot_cnt)*100)\n",
        "print(\"Total Coverage of rare words:\",(freq/tot_freq)*100)"
      ]
    },
    {
      "cell_type": "code",
      "execution_count": 21,
      "metadata": {
        "colab": {
          "base_uri": "https://localhost:8080/"
        },
        "id": "SofnBZk-SJeE",
        "outputId": "c8294148-f78a-4e4b-fa25-a74b10d1359a"
      },
      "outputs": [
        {
          "name": "stdout",
          "output_type": "stream",
          "text": [
            "Size of vocabulary in X = 1420\n"
          ]
        }
      ],
      "source": [
        "from tensorflow.keras.preprocessing.text import Tokenizer\n",
        "from tensorflow.keras.preprocessing.sequence import pad_sequences\n",
        "\n",
        "# Assuming 'original_x_tr' and 'original_x_val' hold the original training and validation texts\n",
        "original_x_tr = df['text'].values  # Original texts as a NumPy array or list\n",
        "original_x_val = df['text'].values  # Same for validation\n",
        "\n",
        "# Initialize the tokenizer\n",
        "x_tokenizer = Tokenizer(num_words=tot_cnt-cnt)\n",
        "x_tokenizer.fit_on_texts(list(original_x_tr))  # Use the original texts for fitting\n",
        "\n",
        "# Convert text sequences into integer sequences\n",
        "x_tr_seq = x_tokenizer.texts_to_sequences(original_x_tr)\n",
        "x_val_seq = x_tokenizer.texts_to_sequences(original_x_val)\n",
        "\n",
        "# Padding zero up to maximum length\n",
        "x_tr = pad_sequences(x_tr_seq, maxlen=max_len_text, padding='post')\n",
        "x_val = pad_sequences(x_val_seq, maxlen=max_len_text, padding='post')\n",
        "\n",
        "# Size of vocabulary (+1 for padding token)\n",
        "x_voc = x_tokenizer.num_words + 1\n",
        "\n",
        "print(\"Size of vocabulary in X = {}\".format(x_voc))\n"
      ]
    },
    {
      "cell_type": "code",
      "execution_count": 22,
      "metadata": {
        "id": "rmZy8eqNSjLR"
      },
      "outputs": [],
      "source": [
        "# Assume 'df' is your original DataFrame with a 'summary' column containing the raw text summaries\n",
        "original_y_tr = df['summary'].values  # Ensure this is run before any encoding\n",
        "\n",
        "# Now prepare the tokenizer for the summaries\n",
        "y_tokenizer = Tokenizer()\n",
        "y_tokenizer.fit_on_texts(list(original_y_tr))  # Fit using the original text data\n"
      ]
    },
    {
      "cell_type": "code",
      "execution_count": 23,
      "metadata": {
        "colab": {
          "base_uri": "https://localhost:8080/"
        },
        "id": "OSpPbpBJSl5I",
        "outputId": "26ff7492-39db-4b84-f1d8-0de1c818900b"
      },
      "outputs": [
        {
          "name": "stdout",
          "output_type": "stream",
          "text": [
            "% of rare words in vocabulary: 87.76550552251486\n",
            "Total Coverage of rare words: 43.94314773764506\n"
          ]
        }
      ],
      "source": [
        "thresh=6\n",
        "\n",
        "cnt=0\n",
        "tot_cnt=0\n",
        "freq=0\n",
        "tot_freq=0\n",
        "\n",
        "for key,value in y_tokenizer.word_counts.items():\n",
        "    tot_cnt=tot_cnt+1\n",
        "    tot_freq=tot_freq+value\n",
        "    if(value<thresh):\n",
        "        cnt=cnt+1\n",
        "        freq=freq+value\n",
        "\n",
        "print(\"% of rare words in vocabulary:\",(cnt/tot_cnt)*100)\n",
        "print(\"Total Coverage of rare words:\",(freq/tot_freq)*100)"
      ]
    },
    {
      "cell_type": "code",
      "execution_count": 24,
      "metadata": {
        "colab": {
          "base_uri": "https://localhost:8080/"
        },
        "id": "xydsSHxXQSMQ",
        "outputId": "3e73fcb5-0391-4a1f-cd48-c487cfba4952"
      },
      "outputs": [
        {
          "name": "stdout",
          "output_type": "stream",
          "text": [
            "Size of vocabulary in Y = 289\n"
          ]
        }
      ],
      "source": [
        "from tensorflow.keras.preprocessing.text import Tokenizer\n",
        "from tensorflow.keras.preprocessing.sequence import pad_sequences\n",
        "from sklearn.model_selection import train_test_split\n",
        "\n",
        "# Assuming 'df' has a 'summary' column with raw text summaries\n",
        "x, y = df['text'], df['summary']\n",
        "x_tr, x_val, y_tr, y_val = train_test_split(x, y, test_size=0.3, random_state=0, shuffle=True)\n",
        "\n",
        "\n",
        "tokenizer = Tokenizer()\n",
        "tokenizer.fit_on_texts(x_tr)  # or all_text_data if available\n",
        "\n",
        "# Convert to sequences\n",
        "x_tr = tokenizer.texts_to_sequences(x_tr)\n",
        "x_val = tokenizer.texts_to_sequences(x_val)\n",
        "\n",
        "# Pad the sequences\n",
        "max_text_len = 50  # or whatever your limit is\n",
        "x_tr = pad_sequences(x_tr, maxlen=max_text_len, padding='post')\n",
        "x_val = pad_sequences(x_val, maxlen=max_text_len, padding='post')\n",
        "\n",
        "# Tokenizer setup\n",
        "y_tokenizer = Tokenizer(num_words=tot_cnt - cnt)\n",
        "y_tokenizer.fit_on_texts(list(y_tr))  # Ensure y_tr is a list of raw text summaries\n",
        "\n",
        "# Convert text sequences into integer sequences\n",
        "y_tr_seq = y_tokenizer.texts_to_sequences(y_tr)\n",
        "y_val_seq = y_tokenizer.texts_to_sequences(y_val)\n",
        "\n",
        "# Padding zero up to maximum length\n",
        "y_tr = pad_sequences(y_tr_seq, maxlen=max_len_headline, padding='post')\n",
        "y_val = pad_sequences(y_val_seq, maxlen=max_len_headline, padding='post')\n",
        "\n",
        "# Size of vocabulary (+1 for padding token not accounted for in num_words)\n",
        "y_voc = y_tokenizer.num_words + 1\n",
        "\n",
        "print(\"Size of vocabulary in Y = {}\".format(y_voc))\n"
      ]
    },
    {
      "cell_type": "code",
      "execution_count": 25,
      "metadata": {
        "id": "SBwtVw9XQ79I"
      },
      "outputs": [],
      "source": [
        "ind=[]\n",
        "for i in range(len(y_tr)):\n",
        "    cnt=0\n",
        "    for j in y_tr[i]:\n",
        "        if j!=0:\n",
        "            cnt=cnt+1\n",
        "    if(cnt==2):\n",
        "        ind.append(i)\n",
        "\n",
        "y_tr=np.delete(y_tr,ind, axis=0)\n",
        "x_tr=np.delete(x_tr,ind, axis=0)"
      ]
    },
    {
      "cell_type": "code",
      "execution_count": 26,
      "metadata": {
        "id": "ZX78wntrQ76i"
      },
      "outputs": [],
      "source": [
        "ind=[]\n",
        "for i in range(len(y_val)):\n",
        "    cnt=0\n",
        "    for j in y_val[i]:\n",
        "        if j!=0:\n",
        "            cnt=cnt+1\n",
        "    if(cnt==2):\n",
        "        ind.append(i)\n",
        "\n",
        "y_val=np.delete(y_val,ind, axis=0)\n",
        "x_val=np.delete(x_val,ind, axis=0)"
      ]
    },
    {
      "cell_type": "code",
      "execution_count": 27,
      "metadata": {},
      "outputs": [
        {
          "name": "stdout",
          "output_type": "stream",
          "text": [
            "Requirement already satisfied: gensim in /Users/anuraagreddy/anaconda3/envs/tensorflow/lib/python3.10/site-packages (4.3.3)\n",
            "Requirement already satisfied: numpy<2.0,>=1.18.5 in /Users/anuraagreddy/anaconda3/envs/tensorflow/lib/python3.10/site-packages (from gensim) (1.26.4)\n",
            "Requirement already satisfied: scipy<1.14.0,>=1.7.0 in /Users/anuraagreddy/anaconda3/envs/tensorflow/lib/python3.10/site-packages (from gensim) (1.13.1)\n",
            "Requirement already satisfied: smart-open>=1.8.1 in /Users/anuraagreddy/anaconda3/envs/tensorflow/lib/python3.10/site-packages (from gensim) (7.1.0)\n",
            "Requirement already satisfied: wrapt in /Users/anuraagreddy/anaconda3/envs/tensorflow/lib/python3.10/site-packages (from smart-open>=1.8.1->gensim) (1.16.0)\n",
            "Note: you may need to restart the kernel to use updated packages.\n"
          ]
        }
      ],
      "source": [
        "%pip install gensim\n"
      ]
    },
    {
      "cell_type": "code",
      "execution_count": 48,
      "metadata": {},
      "outputs": [],
      "source": [
        "from tensorflow.keras.layers import Layer\n",
        "import tensorflow as tf\n",
        "\n",
        "class AttentionLayer(Layer):\n",
        "    def __init__(self, **kwargs):\n",
        "        super(AttentionLayer, self).__init__(**kwargs)\n",
        "\n",
        "    def build(self, input_shape):\n",
        "        latent_dim = input_shape[0][-1]  # assuming encoder and decoder outputs have same hidden size\n",
        "\n",
        "        self.W_a = self.add_weight(\n",
        "            name=\"W_a\", shape=(latent_dim, latent_dim),\n",
        "            initializer=\"random_normal\", trainable=True)\n",
        "\n",
        "        self.U_a = self.add_weight(\n",
        "            name=\"U_a\", shape=(latent_dim, latent_dim),\n",
        "            initializer=\"random_normal\", trainable=True)\n",
        "\n",
        "        self.V_a = self.add_weight(\n",
        "            name=\"V_a\", shape=(latent_dim, 1),\n",
        "            initializer=\"random_normal\", trainable=True)\n",
        "\n",
        "        super(AttentionLayer, self).build(input_shape)\n",
        "\n",
        "    def call(self, inputs):\n",
        "        encoder_output, decoder_output = inputs  # shapes: (batch, T_enc, dim), (batch, T_dec, dim)\n",
        "\n",
        "        decoder_time_steps = tf.shape(decoder_output)[1]\n",
        "        encoder_time_steps = tf.shape(encoder_output)[1]\n",
        "\n",
        "        # Expand dimensions to align encoder and decoder\n",
        "        dec_hidden_expanded = tf.expand_dims(decoder_output, 2)  # (batch, T_dec, 1, dim)\n",
        "        dec_hidden_tiled = tf.tile(dec_hidden_expanded, [1, 1, encoder_time_steps, 1])  # (batch, T_dec, T_enc, dim)\n",
        "\n",
        "        enc_out_expanded = tf.expand_dims(encoder_output, 1)  # (batch, 1, T_enc, dim)\n",
        "        enc_out_tiled = tf.tile(enc_out_expanded, [1, decoder_time_steps, 1, 1])  # (batch, T_dec, T_enc, dim)\n",
        "\n",
        "        # Attention mechanism\n",
        "        W_enc = tf.tensordot(enc_out_tiled, self.W_a, axes=[[3], [0]])\n",
        "        U_dec = tf.tensordot(dec_hidden_tiled, self.U_a, axes=[[3], [0]])\n",
        "        e = tf.nn.tanh(W_enc + U_dec)\n",
        "        score = tf.tensordot(e, self.V_a, axes=[[3], [0]])\n",
        "        score = tf.squeeze(score, axis=-1)  # (batch, T_dec, T_enc)\n",
        "\n",
        "        attention_weights = tf.nn.softmax(score, axis=-1)  # (batch, T_dec, T_enc)\n",
        "\n",
        "        # Compute context vector\n",
        "        context_vector = tf.matmul(attention_weights, encoder_output)  # (batch, T_dec, dim)\n",
        "\n",
        "        return context_vector, attention_weights\n"
      ]
    },
    {
      "cell_type": "code",
      "execution_count": 49,
      "metadata": {
        "colab": {
          "base_uri": "https://localhost:8080/"
        },
        "id": "szV6Ic2jQ731",
        "outputId": "833d4740-7afa-43ee-aa48-5c4361e12308"
      },
      "outputs": [
        {
          "name": "stdout",
          "output_type": "stream",
          "text": [
            "Size of vocabulary from the w2v model = 1420\n"
          ]
        },
        {
          "data": {
            "text/html": [
              "<pre style=\"white-space:pre;overflow-x:auto;line-height:normal;font-family:Menlo,'DejaVu Sans Mono',consolas,'Courier New',monospace\"><span style=\"font-weight: bold\">Model: \"functional\"</span>\n",
              "</pre>\n"
            ],
            "text/plain": [
              "\u001b[1mModel: \"functional\"\u001b[0m\n"
            ]
          },
          "metadata": {},
          "output_type": "display_data"
        },
        {
          "data": {
            "text/html": [
              "<pre style=\"white-space:pre;overflow-x:auto;line-height:normal;font-family:Menlo,'DejaVu Sans Mono',consolas,'Courier New',monospace\">┏━━━━━━━━━━━━━━━━━━━━━┳━━━━━━━━━━━━━━━━━━━┳━━━━━━━━━━━━┳━━━━━━━━━━━━━━━━━━━┓\n",
              "┃<span style=\"font-weight: bold\"> Layer (type)        </span>┃<span style=\"font-weight: bold\"> Output Shape      </span>┃<span style=\"font-weight: bold\">    Param # </span>┃<span style=\"font-weight: bold\"> Connected to      </span>┃\n",
              "┡━━━━━━━━━━━━━━━━━━━━━╇━━━━━━━━━━━━━━━━━━━╇━━━━━━━━━━━━╇━━━━━━━━━━━━━━━━━━━┩\n",
              "│ input_layer         │ (<span style=\"color: #00d7ff; text-decoration-color: #00d7ff\">None</span>, <span style=\"color: #00af00; text-decoration-color: #00af00\">50</span>)        │          <span style=\"color: #00af00; text-decoration-color: #00af00\">0</span> │ -                 │\n",
              "│ (<span style=\"color: #0087ff; text-decoration-color: #0087ff\">InputLayer</span>)        │                   │            │                   │\n",
              "├─────────────────────┼───────────────────┼────────────┼───────────────────┤\n",
              "│ embedding           │ (<span style=\"color: #00d7ff; text-decoration-color: #00d7ff\">None</span>, <span style=\"color: #00af00; text-decoration-color: #00af00\">50</span>, <span style=\"color: #00af00; text-decoration-color: #00af00\">200</span>)   │    <span style=\"color: #00af00; text-decoration-color: #00af00\">284,000</span> │ input_layer[<span style=\"color: #00af00; text-decoration-color: #00af00\">0</span>][<span style=\"color: #00af00; text-decoration-color: #00af00\">0</span>] │\n",
              "│ (<span style=\"color: #0087ff; text-decoration-color: #0087ff\">Embedding</span>)         │                   │            │                   │\n",
              "├─────────────────────┼───────────────────┼────────────┼───────────────────┤\n",
              "│ lstm (<span style=\"color: #0087ff; text-decoration-color: #0087ff\">LSTM</span>)         │ [(<span style=\"color: #00d7ff; text-decoration-color: #00d7ff\">None</span>, <span style=\"color: #00af00; text-decoration-color: #00af00\">50</span>, <span style=\"color: #00af00; text-decoration-color: #00af00\">300</span>), │    <span style=\"color: #00af00; text-decoration-color: #00af00\">601,200</span> │ embedding[<span style=\"color: #00af00; text-decoration-color: #00af00\">0</span>][<span style=\"color: #00af00; text-decoration-color: #00af00\">0</span>]   │\n",
              "│                     │ (<span style=\"color: #00d7ff; text-decoration-color: #00d7ff\">None</span>, <span style=\"color: #00af00; text-decoration-color: #00af00\">300</span>),      │            │                   │\n",
              "│                     │ (<span style=\"color: #00d7ff; text-decoration-color: #00d7ff\">None</span>, <span style=\"color: #00af00; text-decoration-color: #00af00\">300</span>)]      │            │                   │\n",
              "├─────────────────────┼───────────────────┼────────────┼───────────────────┤\n",
              "│ input_layer_1       │ (<span style=\"color: #00d7ff; text-decoration-color: #00d7ff\">None</span>, <span style=\"color: #00af00; text-decoration-color: #00af00\">49</span>)        │          <span style=\"color: #00af00; text-decoration-color: #00af00\">0</span> │ -                 │\n",
              "│ (<span style=\"color: #0087ff; text-decoration-color: #0087ff\">InputLayer</span>)        │                   │            │                   │\n",
              "├─────────────────────┼───────────────────┼────────────┼───────────────────┤\n",
              "│ lstm_1 (<span style=\"color: #0087ff; text-decoration-color: #0087ff\">LSTM</span>)       │ [(<span style=\"color: #00d7ff; text-decoration-color: #00d7ff\">None</span>, <span style=\"color: #00af00; text-decoration-color: #00af00\">50</span>, <span style=\"color: #00af00; text-decoration-color: #00af00\">300</span>), │    <span style=\"color: #00af00; text-decoration-color: #00af00\">721,200</span> │ lstm[<span style=\"color: #00af00; text-decoration-color: #00af00\">0</span>][<span style=\"color: #00af00; text-decoration-color: #00af00\">0</span>]        │\n",
              "│                     │ (<span style=\"color: #00d7ff; text-decoration-color: #00d7ff\">None</span>, <span style=\"color: #00af00; text-decoration-color: #00af00\">300</span>),      │            │                   │\n",
              "│                     │ (<span style=\"color: #00d7ff; text-decoration-color: #00d7ff\">None</span>, <span style=\"color: #00af00; text-decoration-color: #00af00\">300</span>)]      │            │                   │\n",
              "├─────────────────────┼───────────────────┼────────────┼───────────────────┤\n",
              "│ embedding_1         │ (<span style=\"color: #00d7ff; text-decoration-color: #00d7ff\">None</span>, <span style=\"color: #00af00; text-decoration-color: #00af00\">49</span>, <span style=\"color: #00af00; text-decoration-color: #00af00\">200</span>)   │     <span style=\"color: #00af00; text-decoration-color: #00af00\">57,800</span> │ input_layer_1[<span style=\"color: #00af00; text-decoration-color: #00af00\">0</span>]… │\n",
              "│ (<span style=\"color: #0087ff; text-decoration-color: #0087ff\">Embedding</span>)         │                   │            │                   │\n",
              "├─────────────────────┼───────────────────┼────────────┼───────────────────┤\n",
              "│ lstm_2 (<span style=\"color: #0087ff; text-decoration-color: #0087ff\">LSTM</span>)       │ [(<span style=\"color: #00d7ff; text-decoration-color: #00d7ff\">None</span>, <span style=\"color: #00af00; text-decoration-color: #00af00\">50</span>, <span style=\"color: #00af00; text-decoration-color: #00af00\">300</span>), │    <span style=\"color: #00af00; text-decoration-color: #00af00\">721,200</span> │ lstm_1[<span style=\"color: #00af00; text-decoration-color: #00af00\">0</span>][<span style=\"color: #00af00; text-decoration-color: #00af00\">0</span>]      │\n",
              "│                     │ (<span style=\"color: #00d7ff; text-decoration-color: #00d7ff\">None</span>, <span style=\"color: #00af00; text-decoration-color: #00af00\">300</span>),      │            │                   │\n",
              "│                     │ (<span style=\"color: #00d7ff; text-decoration-color: #00d7ff\">None</span>, <span style=\"color: #00af00; text-decoration-color: #00af00\">300</span>)]      │            │                   │\n",
              "├─────────────────────┼───────────────────┼────────────┼───────────────────┤\n",
              "│ lstm_3 (<span style=\"color: #0087ff; text-decoration-color: #0087ff\">LSTM</span>)       │ [(<span style=\"color: #00d7ff; text-decoration-color: #00d7ff\">None</span>, <span style=\"color: #00af00; text-decoration-color: #00af00\">49</span>, <span style=\"color: #00af00; text-decoration-color: #00af00\">300</span>), │    <span style=\"color: #00af00; text-decoration-color: #00af00\">601,200</span> │ embedding_1[<span style=\"color: #00af00; text-decoration-color: #00af00\">0</span>][<span style=\"color: #00af00; text-decoration-color: #00af00\">0</span>… │\n",
              "│                     │ (<span style=\"color: #00d7ff; text-decoration-color: #00d7ff\">None</span>, <span style=\"color: #00af00; text-decoration-color: #00af00\">300</span>),      │            │ lstm_2[<span style=\"color: #00af00; text-decoration-color: #00af00\">0</span>][<span style=\"color: #00af00; text-decoration-color: #00af00\">1</span>],     │\n",
              "│                     │ (<span style=\"color: #00d7ff; text-decoration-color: #00d7ff\">None</span>, <span style=\"color: #00af00; text-decoration-color: #00af00\">300</span>)]      │            │ lstm_2[<span style=\"color: #00af00; text-decoration-color: #00af00\">0</span>][<span style=\"color: #00af00; text-decoration-color: #00af00\">2</span>]      │\n",
              "├─────────────────────┼───────────────────┼────────────┼───────────────────┤\n",
              "│ attention_layer_fi… │ [(<span style=\"color: #00d7ff; text-decoration-color: #00d7ff\">None</span>, <span style=\"color: #00af00; text-decoration-color: #00af00\">49</span>, <span style=\"color: #00af00; text-decoration-color: #00af00\">300</span>), │    <span style=\"color: #00af00; text-decoration-color: #00af00\">180,300</span> │ lstm_2[<span style=\"color: #00af00; text-decoration-color: #00af00\">0</span>][<span style=\"color: #00af00; text-decoration-color: #00af00\">0</span>],     │\n",
              "│ (<span style=\"color: #0087ff; text-decoration-color: #0087ff\">AttentionLayer</span>)    │ (<span style=\"color: #00d7ff; text-decoration-color: #00d7ff\">None</span>, <span style=\"color: #00af00; text-decoration-color: #00af00\">49</span>, <span style=\"color: #00af00; text-decoration-color: #00af00\">50</span>)]   │            │ lstm_3[<span style=\"color: #00af00; text-decoration-color: #00af00\">0</span>][<span style=\"color: #00af00; text-decoration-color: #00af00\">0</span>]      │\n",
              "├─────────────────────┼───────────────────┼────────────┼───────────────────┤\n",
              "│ concatenate         │ (<span style=\"color: #00d7ff; text-decoration-color: #00d7ff\">None</span>, <span style=\"color: #00af00; text-decoration-color: #00af00\">49</span>, <span style=\"color: #00af00; text-decoration-color: #00af00\">600</span>)   │          <span style=\"color: #00af00; text-decoration-color: #00af00\">0</span> │ lstm_3[<span style=\"color: #00af00; text-decoration-color: #00af00\">0</span>][<span style=\"color: #00af00; text-decoration-color: #00af00\">0</span>],     │\n",
              "│ (<span style=\"color: #0087ff; text-decoration-color: #0087ff\">Concatenate</span>)       │                   │            │ attention_layer_… │\n",
              "├─────────────────────┼───────────────────┼────────────┼───────────────────┤\n",
              "│ decoder_dense_final │ (<span style=\"color: #00d7ff; text-decoration-color: #00d7ff\">None</span>, <span style=\"color: #00af00; text-decoration-color: #00af00\">49</span>, <span style=\"color: #00af00; text-decoration-color: #00af00\">289</span>)   │    <span style=\"color: #00af00; text-decoration-color: #00af00\">173,689</span> │ concatenate[<span style=\"color: #00af00; text-decoration-color: #00af00\">0</span>][<span style=\"color: #00af00; text-decoration-color: #00af00\">0</span>] │\n",
              "│ (<span style=\"color: #0087ff; text-decoration-color: #0087ff\">TimeDistributed</span>)   │                   │            │                   │\n",
              "└─────────────────────┴───────────────────┴────────────┴───────────────────┘\n",
              "</pre>\n"
            ],
            "text/plain": [
              "┏━━━━━━━━━━━━━━━━━━━━━┳━━━━━━━━━━━━━━━━━━━┳━━━━━━━━━━━━┳━━━━━━━━━━━━━━━━━━━┓\n",
              "┃\u001b[1m \u001b[0m\u001b[1mLayer (type)       \u001b[0m\u001b[1m \u001b[0m┃\u001b[1m \u001b[0m\u001b[1mOutput Shape     \u001b[0m\u001b[1m \u001b[0m┃\u001b[1m \u001b[0m\u001b[1m   Param #\u001b[0m\u001b[1m \u001b[0m┃\u001b[1m \u001b[0m\u001b[1mConnected to     \u001b[0m\u001b[1m \u001b[0m┃\n",
              "┡━━━━━━━━━━━━━━━━━━━━━╇━━━━━━━━━━━━━━━━━━━╇━━━━━━━━━━━━╇━━━━━━━━━━━━━━━━━━━┩\n",
              "│ input_layer         │ (\u001b[38;5;45mNone\u001b[0m, \u001b[38;5;34m50\u001b[0m)        │          \u001b[38;5;34m0\u001b[0m │ -                 │\n",
              "│ (\u001b[38;5;33mInputLayer\u001b[0m)        │                   │            │                   │\n",
              "├─────────────────────┼───────────────────┼────────────┼───────────────────┤\n",
              "│ embedding           │ (\u001b[38;5;45mNone\u001b[0m, \u001b[38;5;34m50\u001b[0m, \u001b[38;5;34m200\u001b[0m)   │    \u001b[38;5;34m284,000\u001b[0m │ input_layer[\u001b[38;5;34m0\u001b[0m][\u001b[38;5;34m0\u001b[0m] │\n",
              "│ (\u001b[38;5;33mEmbedding\u001b[0m)         │                   │            │                   │\n",
              "├─────────────────────┼───────────────────┼────────────┼───────────────────┤\n",
              "│ lstm (\u001b[38;5;33mLSTM\u001b[0m)         │ [(\u001b[38;5;45mNone\u001b[0m, \u001b[38;5;34m50\u001b[0m, \u001b[38;5;34m300\u001b[0m), │    \u001b[38;5;34m601,200\u001b[0m │ embedding[\u001b[38;5;34m0\u001b[0m][\u001b[38;5;34m0\u001b[0m]   │\n",
              "│                     │ (\u001b[38;5;45mNone\u001b[0m, \u001b[38;5;34m300\u001b[0m),      │            │                   │\n",
              "│                     │ (\u001b[38;5;45mNone\u001b[0m, \u001b[38;5;34m300\u001b[0m)]      │            │                   │\n",
              "├─────────────────────┼───────────────────┼────────────┼───────────────────┤\n",
              "│ input_layer_1       │ (\u001b[38;5;45mNone\u001b[0m, \u001b[38;5;34m49\u001b[0m)        │          \u001b[38;5;34m0\u001b[0m │ -                 │\n",
              "│ (\u001b[38;5;33mInputLayer\u001b[0m)        │                   │            │                   │\n",
              "├─────────────────────┼───────────────────┼────────────┼───────────────────┤\n",
              "│ lstm_1 (\u001b[38;5;33mLSTM\u001b[0m)       │ [(\u001b[38;5;45mNone\u001b[0m, \u001b[38;5;34m50\u001b[0m, \u001b[38;5;34m300\u001b[0m), │    \u001b[38;5;34m721,200\u001b[0m │ lstm[\u001b[38;5;34m0\u001b[0m][\u001b[38;5;34m0\u001b[0m]        │\n",
              "│                     │ (\u001b[38;5;45mNone\u001b[0m, \u001b[38;5;34m300\u001b[0m),      │            │                   │\n",
              "│                     │ (\u001b[38;5;45mNone\u001b[0m, \u001b[38;5;34m300\u001b[0m)]      │            │                   │\n",
              "├─────────────────────┼───────────────────┼────────────┼───────────────────┤\n",
              "│ embedding_1         │ (\u001b[38;5;45mNone\u001b[0m, \u001b[38;5;34m49\u001b[0m, \u001b[38;5;34m200\u001b[0m)   │     \u001b[38;5;34m57,800\u001b[0m │ input_layer_1[\u001b[38;5;34m0\u001b[0m]… │\n",
              "│ (\u001b[38;5;33mEmbedding\u001b[0m)         │                   │            │                   │\n",
              "├─────────────────────┼───────────────────┼────────────┼───────────────────┤\n",
              "│ lstm_2 (\u001b[38;5;33mLSTM\u001b[0m)       │ [(\u001b[38;5;45mNone\u001b[0m, \u001b[38;5;34m50\u001b[0m, \u001b[38;5;34m300\u001b[0m), │    \u001b[38;5;34m721,200\u001b[0m │ lstm_1[\u001b[38;5;34m0\u001b[0m][\u001b[38;5;34m0\u001b[0m]      │\n",
              "│                     │ (\u001b[38;5;45mNone\u001b[0m, \u001b[38;5;34m300\u001b[0m),      │            │                   │\n",
              "│                     │ (\u001b[38;5;45mNone\u001b[0m, \u001b[38;5;34m300\u001b[0m)]      │            │                   │\n",
              "├─────────────────────┼───────────────────┼────────────┼───────────────────┤\n",
              "│ lstm_3 (\u001b[38;5;33mLSTM\u001b[0m)       │ [(\u001b[38;5;45mNone\u001b[0m, \u001b[38;5;34m49\u001b[0m, \u001b[38;5;34m300\u001b[0m), │    \u001b[38;5;34m601,200\u001b[0m │ embedding_1[\u001b[38;5;34m0\u001b[0m][\u001b[38;5;34m0\u001b[0m… │\n",
              "│                     │ (\u001b[38;5;45mNone\u001b[0m, \u001b[38;5;34m300\u001b[0m),      │            │ lstm_2[\u001b[38;5;34m0\u001b[0m][\u001b[38;5;34m1\u001b[0m],     │\n",
              "│                     │ (\u001b[38;5;45mNone\u001b[0m, \u001b[38;5;34m300\u001b[0m)]      │            │ lstm_2[\u001b[38;5;34m0\u001b[0m][\u001b[38;5;34m2\u001b[0m]      │\n",
              "├─────────────────────┼───────────────────┼────────────┼───────────────────┤\n",
              "│ attention_layer_fi… │ [(\u001b[38;5;45mNone\u001b[0m, \u001b[38;5;34m49\u001b[0m, \u001b[38;5;34m300\u001b[0m), │    \u001b[38;5;34m180,300\u001b[0m │ lstm_2[\u001b[38;5;34m0\u001b[0m][\u001b[38;5;34m0\u001b[0m],     │\n",
              "│ (\u001b[38;5;33mAttentionLayer\u001b[0m)    │ (\u001b[38;5;45mNone\u001b[0m, \u001b[38;5;34m49\u001b[0m, \u001b[38;5;34m50\u001b[0m)]   │            │ lstm_3[\u001b[38;5;34m0\u001b[0m][\u001b[38;5;34m0\u001b[0m]      │\n",
              "├─────────────────────┼───────────────────┼────────────┼───────────────────┤\n",
              "│ concatenate         │ (\u001b[38;5;45mNone\u001b[0m, \u001b[38;5;34m49\u001b[0m, \u001b[38;5;34m600\u001b[0m)   │          \u001b[38;5;34m0\u001b[0m │ lstm_3[\u001b[38;5;34m0\u001b[0m][\u001b[38;5;34m0\u001b[0m],     │\n",
              "│ (\u001b[38;5;33mConcatenate\u001b[0m)       │                   │            │ attention_layer_… │\n",
              "├─────────────────────┼───────────────────┼────────────┼───────────────────┤\n",
              "│ decoder_dense_final │ (\u001b[38;5;45mNone\u001b[0m, \u001b[38;5;34m49\u001b[0m, \u001b[38;5;34m289\u001b[0m)   │    \u001b[38;5;34m173,689\u001b[0m │ concatenate[\u001b[38;5;34m0\u001b[0m][\u001b[38;5;34m0\u001b[0m] │\n",
              "│ (\u001b[38;5;33mTimeDistributed\u001b[0m)   │                   │            │                   │\n",
              "└─────────────────────┴───────────────────┴────────────┴───────────────────┘\n"
            ]
          },
          "metadata": {},
          "output_type": "display_data"
        },
        {
          "data": {
            "text/html": [
              "<pre style=\"white-space:pre;overflow-x:auto;line-height:normal;font-family:Menlo,'DejaVu Sans Mono',consolas,'Courier New',monospace\"><span style=\"font-weight: bold\"> Total params: </span><span style=\"color: #00af00; text-decoration-color: #00af00\">3,340,589</span> (12.74 MB)\n",
              "</pre>\n"
            ],
            "text/plain": [
              "\u001b[1m Total params: \u001b[0m\u001b[38;5;34m3,340,589\u001b[0m (12.74 MB)\n"
            ]
          },
          "metadata": {},
          "output_type": "display_data"
        },
        {
          "data": {
            "text/html": [
              "<pre style=\"white-space:pre;overflow-x:auto;line-height:normal;font-family:Menlo,'DejaVu Sans Mono',consolas,'Courier New',monospace\"><span style=\"font-weight: bold\"> Trainable params: </span><span style=\"color: #00af00; text-decoration-color: #00af00\">3,340,589</span> (12.74 MB)\n",
              "</pre>\n"
            ],
            "text/plain": [
              "\u001b[1m Trainable params: \u001b[0m\u001b[38;5;34m3,340,589\u001b[0m (12.74 MB)\n"
            ]
          },
          "metadata": {},
          "output_type": "display_data"
        },
        {
          "data": {
            "text/html": [
              "<pre style=\"white-space:pre;overflow-x:auto;line-height:normal;font-family:Menlo,'DejaVu Sans Mono',consolas,'Courier New',monospace\"><span style=\"font-weight: bold\"> Non-trainable params: </span><span style=\"color: #00af00; text-decoration-color: #00af00\">0</span> (0.00 B)\n",
              "</pre>\n"
            ],
            "text/plain": [
              "\u001b[1m Non-trainable params: \u001b[0m\u001b[38;5;34m0\u001b[0m (0.00 B)\n"
            ]
          },
          "metadata": {},
          "output_type": "display_data"
        }
      ],
      "source": [
        "from keras import backend as K\n",
        "K.clear_session()\n",
        "import gensim\n",
        "from numpy import *\n",
        "import numpy as np\n",
        "import pandas as pd\n",
        "import re\n",
        "from bs4 import BeautifulSoup\n",
        "from tensorflow.keras.preprocessing.text import Tokenizer\n",
        "from tensorflow.keras.preprocessing.sequence import pad_sequences\n",
        "from nltk.corpus import stopwords\n",
        "from tensorflow.keras.layers import Input, LSTM, Embedding, Dense, Concatenate, TimeDistributed\n",
        "from tensorflow.keras.models import Model\n",
        "from tensorflow.keras.callbacks import EarlyStopping\n",
        "import warnings\n",
        "pd.set_option(\"display.max_colwidth\", 200)\n",
        "warnings.filterwarnings(\"ignore\")\n",
        "\n",
        "print(\"Size of vocabulary from the w2v model = {}\".format(x_voc))\n",
        "\n",
        "\n",
        "# Define constants\n",
        "latent_dim = 300\n",
        "embedding_dim = 200\n",
        "max_len_text = 50\n",
        "max_len_summary = 49\n",
        "\n",
        "# Encoder\n",
        "encoder_inputs = Input(shape=(max_len_text,))\n",
        "enc_emb = Embedding(x_voc, embedding_dim, trainable=True)(encoder_inputs)\n",
        "\n",
        "encoder_lstm1 = LSTM(latent_dim, return_sequences=True, return_state=True, dropout=0.4, recurrent_dropout=0.4)\n",
        "encoder_output1, state_h1, state_c1 = encoder_lstm1(enc_emb)\n",
        "\n",
        "encoder_lstm2 = LSTM(latent_dim, return_sequences=True, return_state=True, dropout=0.4, recurrent_dropout=0.4)\n",
        "encoder_output2, state_h2, state_c2 = encoder_lstm2(encoder_output1)\n",
        "\n",
        "encoder_lstm3 = LSTM(latent_dim, return_sequences=True, return_state=True, dropout=0.4, recurrent_dropout=0.4)\n",
        "encoder_outputs, state_h, state_c = encoder_lstm3(encoder_output2)\n",
        "encoder_states = [state_h, state_c]\n",
        "\n",
        "# Decoder\n",
        "decoder_inputs = Input(shape=(max_len_summary,))\n",
        "dec_emb_layer = Embedding(y_voc, embedding_dim, trainable=True)\n",
        "dec_emb = dec_emb_layer(decoder_inputs)\n",
        "\n",
        "decoder_lstm = LSTM(latent_dim, return_sequences=True, return_state=True, dropout=0.4, recurrent_dropout=0.2)\n",
        "decoder_outputs, _, _ = decoder_lstm(dec_emb, initial_state=encoder_states)\n",
        "\n",
        "# ✅ Define attention layer\n",
        "attn_layer = AttentionLayer(name=\"attention_layer_final\")\n",
        "attn_out, attn_states = attn_layer([encoder_outputs, decoder_outputs])\n",
        "\n",
        "# Concatenate attention output and decoder LSTM output\n",
        "decoder_concat_input = Concatenate(axis=-1)([decoder_outputs, attn_out])\n",
        "\n",
        "# Dense output layer\n",
        "decoder_dense = TimeDistributed(Dense(y_voc, activation='softmax'), name=\"decoder_dense_final\")\n",
        "decoder_outputs = decoder_dense(decoder_concat_input)\n",
        "\n",
        "# Final Model\n",
        "model = Model([encoder_inputs, decoder_inputs], decoder_outputs)\n",
        "model.summary()\n"
      ]
    },
    {
      "cell_type": "code",
      "execution_count": 30,
      "metadata": {
        "id": "SRfgmE9jQ7xm"
      },
      "outputs": [],
      "source": [
        "model.compile(optimizer='rmsprop', loss='sparse_categorical_crossentropy')\n"
      ]
    },
    {
      "cell_type": "code",
      "execution_count": 31,
      "metadata": {
        "id": "cVPKPYt8Q7uj"
      },
      "outputs": [],
      "source": [
        "es = EarlyStopping(monitor='val_loss', mode='min', verbose=1,patience=2)\n"
      ]
    },
    {
      "cell_type": "code",
      "execution_count": 32,
      "metadata": {},
      "outputs": [],
      "source": [
        "from tensorflow.keras.callbacks import EarlyStopping\n",
        "\n",
        "early_stopping = EarlyStopping(\n",
        "    monitor='val_loss',\n",
        "    patience=3,\n",
        "    restore_best_weights=True\n",
        ")"
      ]
    },
    {
      "cell_type": "code",
      "execution_count": 33,
      "metadata": {
        "id": "6EUvaKn0f11X"
      },
      "outputs": [
        {
          "name": "stdout",
          "output_type": "stream",
          "text": [
            "Epoch 1/5\n"
          ]
        },
        {
          "name": "stderr",
          "output_type": "stream",
          "text": [
            "2025-04-20 21:37:38.237767: I tensorflow/core/grappler/optimizers/custom_graph_optimizer_registry.cc:117] Plugin optimizer for device_type GPU is enabled.\n"
          ]
        },
        {
          "name": "stdout",
          "output_type": "stream",
          "text": [
            "\u001b[1m3/3\u001b[0m \u001b[32m━━━━━━━━━━━━━━━━━━━━\u001b[0m\u001b[37m\u001b[0m \u001b[1m36s\u001b[0m 11s/step - loss: 5.3415 - val_loss: 1.2199\n",
            "Epoch 2/5\n",
            "\u001b[1m3/3\u001b[0m \u001b[32m━━━━━━━━━━━━━━━━━━━━\u001b[0m\u001b[37m\u001b[0m \u001b[1m30s\u001b[0m 10s/step - loss: 1.2798 - val_loss: 1.4224\n",
            "Epoch 3/5\n",
            "\u001b[1m3/3\u001b[0m \u001b[32m━━━━━━━━━━━━━━━━━━━━\u001b[0m\u001b[37m\u001b[0m \u001b[1m34s\u001b[0m 12s/step - loss: 1.3905 - val_loss: 1.1455\n",
            "Epoch 4/5\n",
            "\u001b[1m3/3\u001b[0m \u001b[32m━━━━━━━━━━━━━━━━━━━━\u001b[0m\u001b[37m\u001b[0m \u001b[1m40s\u001b[0m 14s/step - loss: 1.2167 - val_loss: 1.0917\n",
            "Epoch 5/5\n",
            "\u001b[1m3/3\u001b[0m \u001b[32m━━━━━━━━━━━━━━━━━━━━\u001b[0m\u001b[37m\u001b[0m \u001b[1m39s\u001b[0m 13s/step - loss: 1.1513 - val_loss: 1.0988\n"
          ]
        }
      ],
      "source": [
        "y_tr = np.array(y_tr)\n",
        "y_val = np.array(y_val)\n",
        "\n",
        "decoder_input_data = y_tr[:, :-1]  \n",
        "decoder_target_data = y_tr[:, 1:] \n",
        "decoder_target_data = decoder_target_data[..., np.newaxis]\n",
        "\n",
        "val_decoder_input = y_val[:, :-1]\n",
        "val_decoder_target = y_val[:, 1:]\n",
        "val_decoder_target = val_decoder_target[..., np.newaxis]\n",
        "\n",
        "training_history = model.fit(\n",
        "    [x_tr, decoder_input_data],\n",
        "    decoder_target_data,\n",
        "    epochs=5,\n",
        "    batch_size=128,\n",
        "    validation_data=(\n",
        "        [x_val, val_decoder_input],\n",
        "        val_decoder_target\n",
        "    ),\n",
        "    callbacks=[early_stopping]\n",
        ")\n"
      ]
    },
    {
      "cell_type": "code",
      "execution_count": 50,
      "metadata": {},
      "outputs": [],
      "source": [
        "from tensorflow.keras.models import Model\n",
        "from tensorflow.keras.layers import Input\n",
        "\n",
        "# Encoder inference model\n",
        "encoder_model = Model(inputs=encoder_inputs, outputs=[encoder_outputs, state_h, state_c])\n",
        "\n",
        "# Decoder setup\n",
        "# Inference inputs\n",
        "decoder_state_input_h = Input(shape=(latent_dim,))\n",
        "decoder_state_input_c = Input(shape=(latent_dim,))\n",
        "decoder_hidden_inputs = [decoder_state_input_h, decoder_state_input_c]\n",
        "\n",
        "decoder_inputs_single = Input(shape=(1,))\n",
        "decoder_embedding_inf = dec_emb_layer(decoder_inputs_single)\n",
        "\n",
        "decoder_outputs_inf, state_h_inf, state_c_inf = decoder_lstm(\n",
        "    decoder_embedding_inf, initial_state=decoder_hidden_inputs)\n",
        "\n",
        "# Attention context (reuse encoder_outputs at inference time)\n",
        "encoder_inf_input = Input(shape=(max_len_text, latent_dim))\n",
        "attn_out_inf, attn_states_inf = attn_layer([encoder_inf_input, decoder_outputs_inf])\n",
        "decoder_concat_inf = Concatenate(axis=-1)([decoder_outputs_inf, attn_out_inf])\n",
        "\n",
        "decoder_outputs_inf = decoder_dense(decoder_concat_inf)\n",
        "\n",
        "decoder_model = Model(\n",
        "    inputs=[decoder_inputs_single, encoder_inf_input] + decoder_hidden_inputs,\n",
        "    outputs=[decoder_outputs_inf, state_h_inf, state_c_inf]\n",
        ")\n"
      ]
    },
    {
      "cell_type": "code",
      "execution_count": 51,
      "metadata": {
        "id": "EdsgkFwATAyV"
      },
      "outputs": [],
      "source": [
        "reverse_target_word_index=y_tokenizer.index_word\n",
        "reverse_source_word_index=x_tokenizer.index_word\n",
        "target_word_index=y_tokenizer.word_index"
      ]
    },
    {
      "cell_type": "code",
      "execution_count": 52,
      "metadata": {
        "id": "yOLYbsvlWKRF"
      },
      "outputs": [],
      "source": [
        "def translate_sequence(input_seq):\n",
        "    # Fetch initial states from encoder output\n",
        "    initial_states = encoder_model.predict(input_seq)\n",
        "\n",
        "    # Initialize the sequence with the start token\n",
        "    start_sequence = np.zeros((1, 1))\n",
        "    if 'sostok' in target_word_index:\n",
        "        start_sequence[0, 0] = target_word_index['sostok']\n",
        "    else:\n",
        "        print(\"Error: Start token 'sostok' not in vocabulary index.\")\n",
        "        return \"\"\n",
        "\n",
        "    translation = ''\n",
        "    end_of_sequence = False\n",
        "    while not end_of_sequence:\n",
        "        # Predict the next word's token and update states\n",
        "        predicted_tokens, state_h, state_c = decoder_model.predict([start_sequence] + initial_states)\n",
        "\n",
        "        # Choose the token with highest probability\n",
        "        next_token_index = np.argmax(predicted_tokens[0, -1, :])\n",
        "        next_word = reverse_target_word_index.get(next_token_index, '')\n",
        "\n",
        "        # Check if the translation should end\n",
        "        if next_word == '' or len(translation) > max_decoder_seq_length:\n",
        "            end_of_sequence = True\n",
        "        else:\n",
        "            translation += ' ' + next_word\n",
        "\n",
        "            # Prepare the next token for the LSTM input\n",
        "            start_sequence = np.zeros((1, 1))\n",
        "            start_sequence[0, 0] = next_token_index\n",
        "\n",
        "            # Update LSTM states\n",
        "            initial_states = [state_h, state_c]\n",
        "\n",
        "    return translation.strip()\n"
      ]
    },
    {
      "cell_type": "code",
      "execution_count": 53,
      "metadata": {
        "id": "Q7qVYiPfaE79"
      },
      "outputs": [],
      "source": [
        "# Check if 'sostok' is not in the dictionary and add it\n",
        "if 'sostok' not in target_word_index:\n",
        "    target_word_index['sostok'] = len(target_word_index) + 1  # Assign a new unique index\n",
        "\n",
        "# Do the same for 'eostok' if necessary\n",
        "if 'eostok' not in target_word_index:\n",
        "    target_word_index['eostok'] = len(target_word_index) + 1  # Assign a new unique index\n"
      ]
    },
    {
      "cell_type": "code",
      "execution_count": 54,
      "metadata": {
        "id": "sA8Fqs8IWNUV"
      },
      "outputs": [],
      "source": [
        "def seq2summary(input_seq):\n",
        "    newString = ''\n",
        "    for i in input_seq:\n",
        "        if i != 0 and i not in [target_word_index.get('sostok', None), target_word_index.get('eostok', None)]:\n",
        "            newString += reverse_target_word_index.get(i, '') + ' '\n",
        "    return newString.strip()\n",
        "\n",
        "def seq2text(input_seq):\n",
        "    newString = ''\n",
        "    for i in input_seq:\n",
        "        if i != 0:\n",
        "            newString += reverse_source_word_index.get(i, '') + ' '\n",
        "    return newString.strip()\n"
      ]
    },
    {
      "cell_type": "code",
      "execution_count": 55,
      "metadata": {},
      "outputs": [],
      "source": [
        "from tensorflow.keras.models import Model\n",
        "from tensorflow.keras.layers import Input, Embedding\n",
        "\n",
        "# 1. Fresh input layer for inference\n",
        "encoder_inputs_inf = Input(shape=(max_len_text,), name=\"encoder_inputs_inf\")\n",
        "\n",
        "# 2. Reuse layers used during training\n",
        "enc_emb_inf = Embedding(x_voc_size, embedding_dim, trainable=True)(encoder_inputs_inf)\n",
        "\n",
        "# 3. Reuse the same LSTM layers from training\n",
        "encoder_output1, state_h1, state_c1 = encoder_lstm1(enc_emb_inf)\n",
        "encoder_output2, state_h2, state_c2 = encoder_lstm2(encoder_output1)\n",
        "encoder_outputs_inf, state_h, state_c = encoder_lstm3(encoder_output2)\n",
        "\n",
        "# 4. Final inference encoder model\n",
        "encoder_model = Model(inputs=encoder_inputs_inf, outputs=[encoder_outputs_inf, state_h, state_c])\n",
        "\n",
        "dec_emb2 = dec_emb_layer(decoder_inputs_single)\n",
        "# LSTM step\n",
        "decoder_outputs2, state_h, state_c = decoder_lstm(dec_emb2, initial_state=[decoder_state_input_h, decoder_state_input_c])\n",
        "attn_out_inf, _ = attn_layer([encoder_inf_input, decoder_outputs2])  # enc_out must be (None, 49, latent_dim)\n",
        "decoder_concat_input_inf = Concatenate(axis=-1)([decoder_outputs2, attn_out_inf])\n",
        "\n",
        "# Attention\n",
        "attn_out_inf, attn_states_inf = attn_layer([encoder_inf_input, decoder_outputs2])\n",
        "decoder_concat_input_inf = Concatenate(axis=-1)([decoder_outputs2, attn_out_inf])\n",
        "\n",
        "# Final prediction layer\n",
        "decoder_outputs2 = decoder_dense(decoder_concat_input_inf)\n",
        "\n",
        "# Now define model with 4 inputs\n",
        "decoder_model = Model(\n",
        "    [decoder_inputs_single, encoder_inf_input, decoder_state_input_h, decoder_state_input_c],\n",
        "    [decoder_outputs2, state_h2, state_c2]\n",
        ")"
      ]
    },
    {
      "cell_type": "code",
      "execution_count": 56,
      "metadata": {},
      "outputs": [],
      "source": [
        "from tensorflow.keras.layers import Input, Concatenate\n",
        "from tensorflow.keras.models import Model\n",
        "\n",
        "# Decoder Inputs\n",
        "decoder_inputs_single = Input(shape=(1,), name=\"decoder_word_input_inf\")  # one word at a time\n",
        "encoder_inf_input = Input(shape=(max_len_text, latent_dim), name=\"encoder_output_inf\")\n",
        "\n",
        "decoder_state_input_h = Input(shape=(latent_dim,), name=\"decoder_h_input\")\n",
        "decoder_state_input_c = Input(shape=(latent_dim,), name=\"decoder_c_input\")\n",
        "decoder_states_inputs = [decoder_state_input_h, decoder_state_input_c]\n",
        "\n",
        "# Embedding for one word\n",
        "dec_emb_inf = dec_emb_layer(decoder_inputs_single)\n",
        "\n",
        "# Decoder LSTM output for one timestep\n",
        "decoder_outputs_inf, state_h_inf, state_c_inf = decoder_lstm(\n",
        "    dec_emb_inf, initial_state=decoder_states_inputs\n",
        ")\n",
        "\n",
        "# Attention output for decoder step\n",
        "attn_out_inf, attn_states_inf = attn_layer([encoder_inf_input, decoder_outputs_inf])\n",
        "decoder_concat_input = Concatenate(axis=-1)([decoder_outputs_inf, attn_out_inf])\n",
        "\n",
        "# Final Dense output\n",
        "decoder_outputs_inf = decoder_dense(decoder_concat_input)\n",
        "\n",
        "# Define inference decoder model\n",
        "decoder_model = Model(\n",
        "    [decoder_inputs_single, encoder_inf_input] + decoder_states_inputs,\n",
        "    [decoder_outputs_inf, state_h_inf, state_c_inf]\n",
        ")\n"
      ]
    },
    {
      "cell_type": "code",
      "execution_count": 57,
      "metadata": {},
      "outputs": [],
      "source": [
        "def decode_sequence(input_seq):\n",
        "    # Ensure input is numpy array\n",
        "    input_seq = np.array(input_seq, dtype=np.int32)\n",
        "\n",
        "    # Encode input sequence\n",
        "    enc_out, state_h, state_c = encoder_model.predict(input_seq)\n",
        "    states_value = [state_h, state_c]\n",
        "\n",
        "    # Start with the <starttoken>\n",
        "    target_seq = np.zeros((1, 1))\n",
        "    target_seq[0, 0] = target_word_index['starttoken']  # Use correct key\n",
        "\n",
        "    stop_condition = False\n",
        "    decoded_sentence = ''\n",
        "\n",
        "    while not stop_condition:\n",
        "        output_tokens, h, c = decoder_model.predict([target_seq, enc_out] + states_value)\n",
        "\n",
        "        sampled_token_index = np.argmax(output_tokens[0, -1, :])\n",
        "        sampled_word = reverse_target_word_index.get(sampled_token_index, '')\n",
        "\n",
        "        if (sampled_word == 'endtoken' or len(decoded_sentence.split()) >= max_len_summary):\n",
        "            stop_condition = True\n",
        "        else:\n",
        "            decoded_sentence += ' ' + sampled_word\n",
        "\n",
        "        # Update target sequence and states\n",
        "        target_seq = np.zeros((1, 1))\n",
        "        target_seq[0, 0] = sampled_token_index\n",
        "        states_value = [h, c]\n",
        "\n",
        "    return decoded_sentence.strip()\n"
      ]
    },
    {
      "cell_type": "code",
      "execution_count": 59,
      "metadata": {
        "id": "-oq5w5jUg-90"
      },
      "outputs": [
        {
          "ename": "ValueError",
          "evalue": "Input 0 of layer \"functional_3\" is incompatible with the layer: expected shape=(None, 50), found shape=(1, 48)",
          "output_type": "error",
          "traceback": [
            "\u001b[0;31m---------------------------------------------------------------------------\u001b[0m",
            "\u001b[0;31mValueError\u001b[0m                                Traceback (most recent call last)",
            "Cell \u001b[0;32mIn[59], line 12\u001b[0m\n\u001b[1;32m      9\u001b[0m original_summary \u001b[38;5;241m=\u001b[39m seq2summary(y_tr[i])\n\u001b[1;32m     11\u001b[0m input_seq \u001b[38;5;241m=\u001b[39m x_tr[i]\u001b[38;5;241m.\u001b[39mreshape(\u001b[38;5;241m1\u001b[39m, x_tr\u001b[38;5;241m.\u001b[39mshape[\u001b[38;5;241m1\u001b[39m])  \n\u001b[0;32m---> 12\u001b[0m predicted_summary \u001b[38;5;241m=\u001b[39m \u001b[43mdecode_sequence\u001b[49m\u001b[43m(\u001b[49m\u001b[43minput_seq\u001b[49m\u001b[43m)\u001b[49m\n\u001b[1;32m     14\u001b[0m \u001b[38;5;66;03m# Append each set of results to the data list as a dictionary\u001b[39;00m\n\u001b[1;32m     15\u001b[0m data\u001b[38;5;241m.\u001b[39mappend({\n\u001b[1;32m     16\u001b[0m     \u001b[38;5;124m\"\u001b[39m\u001b[38;5;124mReview\u001b[39m\u001b[38;5;124m\"\u001b[39m: review,\n\u001b[1;32m     17\u001b[0m     \u001b[38;5;124m\"\u001b[39m\u001b[38;5;124mOriginal Summary\u001b[39m\u001b[38;5;124m\"\u001b[39m: original_summary,\n\u001b[1;32m     18\u001b[0m     \u001b[38;5;124m\"\u001b[39m\u001b[38;5;124mPredicted Summary\u001b[39m\u001b[38;5;124m\"\u001b[39m: predicted_summary\n\u001b[1;32m     19\u001b[0m })\n",
            "Cell \u001b[0;32mIn[57], line 6\u001b[0m, in \u001b[0;36mdecode_sequence\u001b[0;34m(input_seq)\u001b[0m\n\u001b[1;32m      3\u001b[0m input_seq \u001b[38;5;241m=\u001b[39m np\u001b[38;5;241m.\u001b[39marray(input_seq, dtype\u001b[38;5;241m=\u001b[39mnp\u001b[38;5;241m.\u001b[39mint32)\n\u001b[1;32m      5\u001b[0m \u001b[38;5;66;03m# Encode input sequence\u001b[39;00m\n\u001b[0;32m----> 6\u001b[0m enc_out, state_h, state_c \u001b[38;5;241m=\u001b[39m \u001b[43mencoder_model\u001b[49m\u001b[38;5;241;43m.\u001b[39;49m\u001b[43mpredict\u001b[49m\u001b[43m(\u001b[49m\u001b[43minput_seq\u001b[49m\u001b[43m)\u001b[49m\n\u001b[1;32m      7\u001b[0m states_value \u001b[38;5;241m=\u001b[39m [state_h, state_c]\n\u001b[1;32m      9\u001b[0m \u001b[38;5;66;03m# Start with the <starttoken>\u001b[39;00m\n",
            "File \u001b[0;32m~/anaconda3/envs/tensorflow/lib/python3.10/site-packages/keras/src/utils/traceback_utils.py:122\u001b[0m, in \u001b[0;36mfilter_traceback.<locals>.error_handler\u001b[0;34m(*args, **kwargs)\u001b[0m\n\u001b[1;32m    119\u001b[0m     filtered_tb \u001b[38;5;241m=\u001b[39m _process_traceback_frames(e\u001b[38;5;241m.\u001b[39m__traceback__)\n\u001b[1;32m    120\u001b[0m     \u001b[38;5;66;03m# To get the full stack trace, call:\u001b[39;00m\n\u001b[1;32m    121\u001b[0m     \u001b[38;5;66;03m# `keras.config.disable_traceback_filtering()`\u001b[39;00m\n\u001b[0;32m--> 122\u001b[0m     \u001b[38;5;28;01mraise\u001b[39;00m e\u001b[38;5;241m.\u001b[39mwith_traceback(filtered_tb) \u001b[38;5;28;01mfrom\u001b[39;00m \u001b[38;5;28;01mNone\u001b[39;00m\n\u001b[1;32m    123\u001b[0m \u001b[38;5;28;01mfinally\u001b[39;00m:\n\u001b[1;32m    124\u001b[0m     \u001b[38;5;28;01mdel\u001b[39;00m filtered_tb\n",
            "File \u001b[0;32m~/anaconda3/envs/tensorflow/lib/python3.10/site-packages/keras/src/layers/input_spec.py:245\u001b[0m, in \u001b[0;36massert_input_compatibility\u001b[0;34m(input_spec, inputs, layer_name)\u001b[0m\n\u001b[1;32m    243\u001b[0m \u001b[38;5;28;01mif\u001b[39;00m spec_dim \u001b[38;5;129;01mis\u001b[39;00m \u001b[38;5;129;01mnot\u001b[39;00m \u001b[38;5;28;01mNone\u001b[39;00m \u001b[38;5;129;01mand\u001b[39;00m dim \u001b[38;5;129;01mis\u001b[39;00m \u001b[38;5;129;01mnot\u001b[39;00m \u001b[38;5;28;01mNone\u001b[39;00m:\n\u001b[1;32m    244\u001b[0m     \u001b[38;5;28;01mif\u001b[39;00m spec_dim \u001b[38;5;241m!=\u001b[39m dim:\n\u001b[0;32m--> 245\u001b[0m         \u001b[38;5;28;01mraise\u001b[39;00m \u001b[38;5;167;01mValueError\u001b[39;00m(\n\u001b[1;32m    246\u001b[0m             \u001b[38;5;124mf\u001b[39m\u001b[38;5;124m'\u001b[39m\u001b[38;5;124mInput \u001b[39m\u001b[38;5;132;01m{\u001b[39;00minput_index\u001b[38;5;132;01m}\u001b[39;00m\u001b[38;5;124m of layer \u001b[39m\u001b[38;5;124m\"\u001b[39m\u001b[38;5;132;01m{\u001b[39;00mlayer_name\u001b[38;5;132;01m}\u001b[39;00m\u001b[38;5;124m\"\u001b[39m\u001b[38;5;124m is \u001b[39m\u001b[38;5;124m'\u001b[39m\n\u001b[1;32m    247\u001b[0m             \u001b[38;5;124m\"\u001b[39m\u001b[38;5;124mincompatible with the layer: \u001b[39m\u001b[38;5;124m\"\u001b[39m\n\u001b[1;32m    248\u001b[0m             \u001b[38;5;124mf\u001b[39m\u001b[38;5;124m\"\u001b[39m\u001b[38;5;124mexpected shape=\u001b[39m\u001b[38;5;132;01m{\u001b[39;00mspec\u001b[38;5;241m.\u001b[39mshape\u001b[38;5;132;01m}\u001b[39;00m\u001b[38;5;124m, \u001b[39m\u001b[38;5;124m\"\u001b[39m\n\u001b[1;32m    249\u001b[0m             \u001b[38;5;124mf\u001b[39m\u001b[38;5;124m\"\u001b[39m\u001b[38;5;124mfound shape=\u001b[39m\u001b[38;5;132;01m{\u001b[39;00mshape\u001b[38;5;132;01m}\u001b[39;00m\u001b[38;5;124m\"\u001b[39m\n\u001b[1;32m    250\u001b[0m         )\n",
            "\u001b[0;31mValueError\u001b[0m: Input 0 of layer \"functional_3\" is incompatible with the layer: expected shape=(None, 50), found shape=(1, 48)"
          ]
        }
      ],
      "source": [
        "import pandas as pd\n",
        "\n",
        "# Initialize a list to hold dictionaries for each set of data\n",
        "data = []\n",
        "\n",
        "# Process each sequence\n",
        "for i in range(0, 1):\n",
        "    review = seq2text(x_tr[i])\n",
        "    original_summary = seq2summary(y_tr[i])\n",
        "    \n",
        "    input_seq = x_tr[i].reshape(1, x_tr.shape[1])  \n",
        "    predicted_summary = decode_sequence(input_seq)\n",
        "\n",
        "    # Append each set of results to the data list as a dictionary\n",
        "    data.append({\n",
        "        \"Review\": review,\n",
        "        \"Original Summary\": original_summary,\n",
        "        \"Predicted Summary\": predicted_summary\n",
        "    })\n",
        "\n",
        "# Convert the list of dictionaries to a DataFrame\n",
        "df = pd.DataFrame(data)\n",
        "\n",
        "# Specify the file path for the CSV\n",
        "file_path = \"/Users/anuraagreddy/Desktop/MS\\\\(UIC\\\\)/Spring '25/CS 521 \\\\(SNLP\\\\)/Stat NLP Project/CS521_TextSummarization_Project/LSTM_Prediction_Results.csv\"\n",
        "\n",
        "# Write the DataFrame to a CSV file\n",
        "df.to_csv(file_path, index=False)\n"
      ]
    }
  ],
  "metadata": {
    "colab": {
      "machine_shape": "hm",
      "provenance": []
    },
    "kernelspec": {
      "display_name": "Python 3.8 (tensorflow)",
      "language": "python",
      "name": "tensorflow"
    },
    "language_info": {
      "codemirror_mode": {
        "name": "ipython",
        "version": 3
      },
      "file_extension": ".py",
      "mimetype": "text/x-python",
      "name": "python",
      "nbconvert_exporter": "python",
      "pygments_lexer": "ipython3",
      "version": "3.10.15"
    }
  },
  "nbformat": 4,
  "nbformat_minor": 0
}
