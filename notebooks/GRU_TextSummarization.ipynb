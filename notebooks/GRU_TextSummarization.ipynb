{
  "cells": [
    {
      "cell_type": "code",
      "execution_count": 1,
      "metadata": {
        "id": "MllrZqg7eQ9Y"
      },
      "outputs": [],
      "source": [
        "import pandas as pd\n",
        "import numpy as np\n",
        "import os\n",
        "import re\n",
        "import warnings\n",
        "warnings.filterwarnings(\"ignore\")\n",
        "from sklearn import datasets, linear_model\n",
        "from sklearn.model_selection import train_test_split\n",
        "from matplotlib import pyplot as plt\n",
        "from bs4 import BeautifulSoup\n",
        "from nltk.corpus import stopwords"
      ]
    },
    {
      "cell_type": "code",
      "execution_count": 2,
      "metadata": {
        "colab": {
          "base_uri": "https://localhost:8080/"
        },
        "id": "PpeBe0c4eYW2",
        "outputId": "2229b703-81de-4c94-b255-0c6de15a87f0"
      },
      "outputs": [
        {
          "name": "stderr",
          "output_type": "stream",
          "text": [
            "[nltk_data] Downloading package stopwords to\n",
            "[nltk_data]     /Users/anuraagreddy/nltk_data...\n",
            "[nltk_data]   Package stopwords is already up-to-date!\n"
          ]
        },
        {
          "data": {
            "text/plain": [
              "True"
            ]
          },
          "execution_count": 2,
          "metadata": {},
          "output_type": "execute_result"
        }
      ],
      "source": [
        "import nltk\n",
        "nltk.download('stopwords')"
      ]
    },
    {
      "cell_type": "code",
      "execution_count": 3,
      "metadata": {
        "id": "Sr1HjBX8eaCe"
      },
      "outputs": [],
      "source": [
        "import csv\n",
        "import os\n",
        "\n",
        "def clean_csv(input_file, output_file):\n",
        "    # Ensure input file exists\n",
        "    if not os.path.exists(input_file):\n",
        "        print(f\"Error: Input file '{input_file}' not found.\")\n",
        "        return\n",
        "\n",
        "    with open(input_file, r\"/Users/anuraagreddy/Desktop/MS(UIC)/Spring '25/CS 521 (SNLP)/Stat NLP Project/CS521_TextSummarization_Project/wikihowAll_Dataset.csv\", encoding='utf-8', errors='ignore') as infile, \\\n",
        "         open(output_file, r\"/Users/anuraagreddy/Desktop/MS(UIC)/Spring '25/CS 521 (SNLP)/Stat NLP Project/CS521_TextSummarization_Project/cleaned_wikihowAll_Dataset.csv\", newline='', encoding='utf-8') as outfile:\n",
        "\n",
        "        reader = csv.reader(infile)\n",
        "        writer = csv.writer(outfile)\n",
        "\n",
        "        for row in reader:\n",
        "            cleaned_row = [cell.replace('\\n', ' ').strip() for cell in row]\n",
        "            writer.writerow(cleaned_row)\n",
        "\n",
        "    print(f\"✔️ Cleaned file written to: {output_file}\")\n"
      ]
    },
    {
      "cell_type": "code",
      "execution_count": 4,
      "metadata": {
        "colab": {
          "base_uri": "https://localhost:8080/"
        },
        "id": "-vOJ8TdnGzUR",
        "outputId": "4fe27d53-b9f5-4988-e1a7-50a8b6e8ddfd"
      },
      "outputs": [
        {
          "name": "stdout",
          "output_type": "stream",
          "text": [
            "Data loaded successfully!\n",
            "Rows: 1499 Columns: 3\n"
          ]
        }
      ],
      "source": [
        "import pandas as pd\n",
        "\n",
        "# Ensure the file path points to your cleaned or modified CSV file\n",
        "file_path = \"/Users/anuraagreddy/Desktop/MS(UIC)/Spring '25/CS 521 (SNLP)/Stat NLP Project/CS521_TextSummarization_Project/wikihowAll_Dataset.csv\"\n",
        "try:\n",
        "    # Read data from the CSV file\n",
        "    Data = pd.read_csv(file_path)\n",
        "\n",
        "    # Convert all data to string type\n",
        "    Data = Data.astype(str)\n",
        "\n",
        "    # Get the dimensions of the DataFrame\n",
        "    rows, columns = Data.shape\n",
        "\n",
        "    # Print the number of rows and columns to verify the size of your data\n",
        "    print(\"Data loaded successfully!\")\n",
        "    print(\"Rows:\", rows, \"Columns:\", columns)\n",
        "\n",
        "except Exception as e:\n",
        "    print(\"Failed to read the file:\", e)\n"
      ]
    },
    {
      "cell_type": "code",
      "execution_count": 5,
      "metadata": {
        "colab": {
          "base_uri": "https://localhost:8080/"
        },
        "id": "8dpCh4-1G81Z",
        "outputId": "b51715b0-fc5e-4424-d58d-a47b4058e605"
      },
      "outputs": [
        {
          "name": "stdout",
          "output_type": "stream",
          "text": [
            "                                            headline  \\\n",
            "0  \\nKeep related supplies in the same area.,\\nMa...   \n",
            "1  \\nCreate a sketch in the NeoPopRealist manner ...   \n",
            "2  \\nGet a bachelor‚Äôs degree.,\\nEnroll in a stu...   \n",
            "3  \\nStart with some experience or interest in ar...   \n",
            "4  \\nKeep your reference materials, sketches, art...   \n",
            "\n",
            "                                    title  \\\n",
            "0          How to Be an Organized Artist1   \n",
            "1  How to Create a Neopoprealist Art Work   \n",
            "2      How to Be a Visual Effects Artist1   \n",
            "3           How to Become an Art Investor   \n",
            "4          How to Be an Organized Artist2   \n",
            "\n",
            "                                                text  \n",
            "0   If you're a photographer, keep all the necess...  \n",
            "1   See the image for how this drawing develops s...  \n",
            "2   It is possible to become a VFX artist without...  \n",
            "3   The best art investors do their research on t...  \n",
            "4   As you start planning for a project or work, ...  \n",
            "<class 'pandas.core.frame.DataFrame'>\n",
            "RangeIndex: 1499 entries, 0 to 1498\n",
            "Data columns (total 3 columns):\n",
            " #   Column    Non-Null Count  Dtype \n",
            "---  ------    --------------  ----- \n",
            " 0   headline  1499 non-null   object\n",
            " 1   title     1499 non-null   object\n",
            " 2   text      1499 non-null   object\n",
            "dtypes: object(3)\n",
            "memory usage: 35.3+ KB\n",
            "None\n",
            "headline    0\n",
            "title       0\n",
            "text        0\n",
            "dtype: int64\n"
          ]
        }
      ],
      "source": [
        "# Display the first few rows of the DataFrame\n",
        "print(Data.head())\n",
        "\n",
        "# Display a summary of the DataFrame\n",
        "print(Data.info())\n",
        "\n",
        "# Check for any missing values in each column\n",
        "print(Data.isnull().sum())\n"
      ]
    },
    {
      "cell_type": "code",
      "execution_count": 6,
      "metadata": {
        "id": "2qYfQiKJebOo"
      },
      "outputs": [],
      "source": [
        "# Filtering rows where 'text' and 'headline' columns are not null\n",
        "df = Data[(Data['text'].notna()) & (Data['headline'].notna())]\n",
        "\n",
        "# Removing rows where the 'text' column has 'nan' as its value\n",
        "df = df[df['text'] != 'nan']\n",
        "\n",
        "# Dropping duplicate entries based on the 'text' column\n",
        "df = df.drop_duplicates(subset='text', inplace=False)\n"
      ]
    },
    {
      "cell_type": "code",
      "execution_count": 7,
      "metadata": {
        "colab": {
          "base_uri": "https://localhost:8080/",
          "height": 419
        },
        "id": "puYPQ9uHedsL",
        "outputId": "265410eb-3f82-401d-8280-024296ac0762"
      },
      "outputs": [
        {
          "data": {
            "text/html": [
              "<div>\n",
              "<style scoped>\n",
              "    .dataframe tbody tr th:only-of-type {\n",
              "        vertical-align: middle;\n",
              "    }\n",
              "\n",
              "    .dataframe tbody tr th {\n",
              "        vertical-align: top;\n",
              "    }\n",
              "\n",
              "    .dataframe thead th {\n",
              "        text-align: right;\n",
              "    }\n",
              "</style>\n",
              "<table border=\"1\" class=\"dataframe\">\n",
              "  <thead>\n",
              "    <tr style=\"text-align: right;\">\n",
              "      <th></th>\n",
              "      <th>headline</th>\n",
              "      <th>title</th>\n",
              "      <th>text</th>\n",
              "    </tr>\n",
              "  </thead>\n",
              "  <tbody>\n",
              "    <tr>\n",
              "      <th>0</th>\n",
              "      <td>\\nKeep related supplies in the same area.,\\nMa...</td>\n",
              "      <td>How to Be an Organized Artist1</td>\n",
              "      <td>If you're a photographer, keep all the necess...</td>\n",
              "    </tr>\n",
              "    <tr>\n",
              "      <th>1</th>\n",
              "      <td>\\nCreate a sketch in the NeoPopRealist manner ...</td>\n",
              "      <td>How to Create a Neopoprealist Art Work</td>\n",
              "      <td>See the image for how this drawing develops s...</td>\n",
              "    </tr>\n",
              "    <tr>\n",
              "      <th>2</th>\n",
              "      <td>\\nGet a bachelor‚Äôs degree.,\\nEnroll in a stu...</td>\n",
              "      <td>How to Be a Visual Effects Artist1</td>\n",
              "      <td>It is possible to become a VFX artist without...</td>\n",
              "    </tr>\n",
              "    <tr>\n",
              "      <th>3</th>\n",
              "      <td>\\nStart with some experience or interest in ar...</td>\n",
              "      <td>How to Become an Art Investor</td>\n",
              "      <td>The best art investors do their research on t...</td>\n",
              "    </tr>\n",
              "    <tr>\n",
              "      <th>4</th>\n",
              "      <td>\\nKeep your reference materials, sketches, art...</td>\n",
              "      <td>How to Be an Organized Artist2</td>\n",
              "      <td>As you start planning for a project or work, ...</td>\n",
              "    </tr>\n",
              "    <tr>\n",
              "      <th>...</th>\n",
              "      <td>...</td>\n",
              "      <td>...</td>\n",
              "      <td>...</td>\n",
              "    </tr>\n",
              "    <tr>\n",
              "      <th>1494</th>\n",
              "      <td>\\nScout your yard.,\\nCreate a grip.,\\nWrap the...</td>\n",
              "      <td>How to Build a Squirrel House2</td>\n",
              "      <td>Plan to spend a day watching your yard to wit...</td>\n",
              "    </tr>\n",
              "    <tr>\n",
              "      <th>1495</th>\n",
              "      <td>\\nAsk for pedigree papers.,\\nGet a DNA test.,\\...</td>\n",
              "      <td>How to Identify Birman Cats2</td>\n",
              "      <td>Cats like the Birman that are more exclusive ...</td>\n",
              "    </tr>\n",
              "    <tr>\n",
              "      <th>1496</th>\n",
              "      <td>\\nDo a search on the Internet for \"Birman\" cat...</td>\n",
              "      <td>How to Identify Birman Cats3</td>\n",
              "      <td>This can help you find any breeders in your a...</td>\n",
              "    </tr>\n",
              "    <tr>\n",
              "      <th>1497</th>\n",
              "      <td>\\nTake good care of your Bengal cat.,\\nPlay wi...</td>\n",
              "      <td>How to Keep a Bengal Cat Happy</td>\n",
              "      <td>Make sure everything is done correctly, so yo...</td>\n",
              "    </tr>\n",
              "    <tr>\n",
              "      <th>1498</th>\n",
              "      <td>\\nDecide which spotted cat you're looking at.,...</td>\n",
              "      <td>How to Identify Feline Species by Fur</td>\n",
              "      <td>If you're trying to work out which spotted gr...</td>\n",
              "    </tr>\n",
              "  </tbody>\n",
              "</table>\n",
              "<p>1493 rows × 3 columns</p>\n",
              "</div>"
            ],
            "text/plain": [
              "                                               headline  \\\n",
              "0     \\nKeep related supplies in the same area.,\\nMa...   \n",
              "1     \\nCreate a sketch in the NeoPopRealist manner ...   \n",
              "2     \\nGet a bachelor‚Äôs degree.,\\nEnroll in a stu...   \n",
              "3     \\nStart with some experience or interest in ar...   \n",
              "4     \\nKeep your reference materials, sketches, art...   \n",
              "...                                                 ...   \n",
              "1494  \\nScout your yard.,\\nCreate a grip.,\\nWrap the...   \n",
              "1495  \\nAsk for pedigree papers.,\\nGet a DNA test.,\\...   \n",
              "1496  \\nDo a search on the Internet for \"Birman\" cat...   \n",
              "1497  \\nTake good care of your Bengal cat.,\\nPlay wi...   \n",
              "1498  \\nDecide which spotted cat you're looking at.,...   \n",
              "\n",
              "                                       title  \\\n",
              "0             How to Be an Organized Artist1   \n",
              "1     How to Create a Neopoprealist Art Work   \n",
              "2         How to Be a Visual Effects Artist1   \n",
              "3              How to Become an Art Investor   \n",
              "4             How to Be an Organized Artist2   \n",
              "...                                      ...   \n",
              "1494          How to Build a Squirrel House2   \n",
              "1495            How to Identify Birman Cats2   \n",
              "1496            How to Identify Birman Cats3   \n",
              "1497          How to Keep a Bengal Cat Happy   \n",
              "1498   How to Identify Feline Species by Fur   \n",
              "\n",
              "                                                   text  \n",
              "0      If you're a photographer, keep all the necess...  \n",
              "1      See the image for how this drawing develops s...  \n",
              "2      It is possible to become a VFX artist without...  \n",
              "3      The best art investors do their research on t...  \n",
              "4      As you start planning for a project or work, ...  \n",
              "...                                                 ...  \n",
              "1494   Plan to spend a day watching your yard to wit...  \n",
              "1495   Cats like the Birman that are more exclusive ...  \n",
              "1496   This can help you find any breeders in your a...  \n",
              "1497   Make sure everything is done correctly, so yo...  \n",
              "1498   If you're trying to work out which spotted gr...  \n",
              "\n",
              "[1493 rows x 3 columns]"
            ]
          },
          "execution_count": 7,
          "metadata": {},
          "output_type": "execute_result"
        }
      ],
      "source": [
        "df"
      ]
    },
    {
      "cell_type": "code",
      "execution_count": 8,
      "metadata": {
        "id": "smqXBGEtee-3"
      },
      "outputs": [],
      "source": [
        "# Set of stopwords\n",
        "english_stopwords = set(stopwords.words('english'))\n",
        "\n",
        "def clean_text_input(input_text, mode):\n",
        "    modified_text = input_text.lower()\n",
        "    modified_text = BeautifulSoup(modified_text, \"lxml\").get_text()\n",
        "    modified_text = re.sub(r'\\([^)]*\\)', '', modified_text)\n",
        "    modified_text = modified_text.replace('\"', '')\n",
        "    modified_text = ' '.join([contraction_mapping.get(word, word) for word in modified_text.split()])\n",
        "    modified_text = re.sub(r\"'s\\b\", \"\", modified_text)\n",
        "    modified_text = re.sub(\"[^a-zA-Z]\", \" \", modified_text)\n",
        "    modified_text = re.sub('[m]{2,}', 'mm', modified_text)\n",
        "\n",
        "    if mode == 0:\n",
        "        modified_text = re.sub(r'\\.', ' . ', modified_text)\n",
        "        words_list = [word for word in modified_text.split() if word not in english_stopwords]\n",
        "    else:\n",
        "        words_list = modified_text.split()\n",
        "\n",
        "    # Filter out single-character words\n",
        "    longer_words = [word for word in words_list if len(word) > 1]\n",
        "    return \" \".join(longer_words).strip()\n"
      ]
    },
    {
      "cell_type": "code",
      "execution_count": 9,
      "metadata": {
        "id": "WktFRr81eg4j"
      },
      "outputs": [],
      "source": [
        "# Flat contraction mapping\n",
        "contraction_mapping = {\n",
        "    \"I'd\": \"I would\", \"I'd've\": \"I would have\", \"I'll\": \"I will\", \"I'll've\": \"I will have\",\n",
        "    \"I'm\": \"I am\", \"I've\": \"I have\",\n",
        "    \"you'd\": \"you would\", \"you'd've\": \"you would have\", \"you'll\": \"you will\",\n",
        "    \"you'll've\": \"you will have\", \"you're\": \"you are\", \"you've\": \"you have\",\n",
        "    \"he'd\": \"he would\", \"he'll\": \"he will\", \"he's\": \"he is\",\n",
        "    \"she'd\": \"she would\", \"she'd've\": \"she would have\", \"she'll\": \"she will\",\n",
        "    \"she'll've\": \"she will have\", \"she's\": \"she is\",\n",
        "    \"it'd\": \"it would\", \"it'd've\": \"it would have\", \"it'll\": \"it will\",\n",
        "    \"it'll've\": \"it will have\", \"it's\": \"it is\",\n",
        "    \"we'd\": \"we would\", \"we'd've\": \"we would have\", \"we'll\": \"we will\",\n",
        "    \"we'll've\": \"we will have\", \"we're\": \"we are\", \"we've\": \"we have\",\n",
        "    \"they'd\": \"they would\", \"they'd've\": \"they would have\", \"they'll\": \"they will\",\n",
        "    \"they'll've\": \"they will have\", \"they're\": \"they are\", \"they've\": \"they have\",\n",
        "    \"aren't\": \"are not\", \"can't\": \"cannot\", \"couldn't\": \"could not\", \"didn't\": \"did not\",\n",
        "    \"doesn't\": \"does not\", \"don't\": \"do not\", \"hadn't\": \"had not\", \"hasn't\": \"has not\",\n",
        "    \"haven't\": \"have not\", \"isn't\": \"is not\", \"mustn't\": \"must not\", \"shan't\": \"shall not\",\n",
        "    \"shouldn't\": \"should not\", \"wasn't\": \"was not\", \"weren't\": \"were not\", \"won't\": \"will not\",\n",
        "    \"wouldn't\": \"would not\", \"'cause\": \"because\", \"o'clock\": \"of the clock\", \"ma'am\": \"madam\", \"let's\": \"let us\"\n",
        "}\n"
      ]
    },
    {
      "cell_type": "code",
      "execution_count": 10,
      "metadata": {
        "id": "8r4sAn9MeitH"
      },
      "outputs": [],
      "source": [
        "cleaned_texts_list = []\n",
        "for t in df['text']:\n",
        "    cleaned_texts_list.append(clean_text_input(t, 0))"
      ]
    },
    {
      "cell_type": "code",
      "execution_count": 11,
      "metadata": {
        "id": "XYypqoYGekJa"
      },
      "outputs": [],
      "source": [
        "#call the function\n",
        "clean_summary = []\n",
        "for t in df['headline']:\n",
        "    clean_summary.append(clean_text_input(t,0))"
      ]
    },
    {
      "cell_type": "code",
      "execution_count": 12,
      "metadata": {
        "id": "yjbNXqKgelhG"
      },
      "outputs": [],
      "source": [
        "df['text']=cleaned_texts_list\n",
        "df['headline']=clean_summary\n",
        "\n",
        "df.replace('', np.nan, inplace=True)\n",
        "df.dropna(axis=0,inplace=True)"
      ]
    },
    {
      "cell_type": "markdown",
      "metadata": {
        "id": "sD6BTcGserQS"
      },
      "source": [
        "Analyzing the sequence distribution"
      ]
    },
    {
      "cell_type": "code",
      "execution_count": 13,
      "metadata": {
        "colab": {
          "base_uri": "https://localhost:8080/",
          "height": 602
        },
        "id": "K3ph13qgenFe",
        "outputId": "97849ea2-2ad2-49cb-ef1c-18879637bef8"
      },
      "outputs": [
        {
          "data": {
            "image/png": "[encoded data removed]",
            "text/plain": [
              "<Figure size 1200x600 with 2 Axes>"
            ]
          },
          "metadata": {},
          "output_type": "display_data"
        }
      ],
      "source": [
        "import pandas as pd\n",
        "import matplotlib.pyplot as plt\n",
        "\n",
        "# Assuming your DataFrame 'df' and list calculations are correct\n",
        "text_word_count = [len(i.split()) for i in df['text']]\n",
        "headline_word_count = [len(j.split()) for j in df['headline']]\n",
        "length_df = pd.DataFrame({'text': text_word_count, 'headline': headline_word_count})\n",
        "\n",
        "fig, axes = plt.subplots(nrows=1, ncols=2, figsize=(12, 6))\n",
        "length_df['text'].hist(bins=30, range=[0, 1000], alpha=0.75, ax=axes[0])\n",
        "length_df['headline'].hist(bins=30, range=[0, 1000], alpha=0.75, ax=axes[1])\n",
        "\n",
        "axes[0].set_title('Text Word Count')\n",
        "axes[1].set_title('Headline Word Count')\n",
        "axes[0].set_xlabel('Word Count')\n",
        "axes[0].set_ylabel('Frequency')\n",
        "axes[1].set_xlabel('Word Count')\n",
        "\n",
        "plt.suptitle('Word Count Distribution in Text and Headlines')\n",
        "plt.show()\n"
      ]
    },
    {
      "cell_type": "code",
      "execution_count": 14,
      "metadata": {
        "id": "becxtmAFewPn"
      },
      "outputs": [],
      "source": [
        "# From the graph\n",
        "# We can fix maximum length of text = 150 since most of the reviews have a length of 150 and maximum headline length of 50, since maximum headlines are of size 50\n",
        "\n",
        "max_len_text= 150\n",
        "max_len_headline=50"
      ]
    },
    {
      "cell_type": "code",
      "execution_count": 15,
      "metadata": {
        "colab": {
          "base_uri": "https://localhost:8080/"
        },
        "id": "9fHaefdFezFu",
        "outputId": "99ddae09-b354-45b3-b56f-0724e1b20b74"
      },
      "outputs": [
        {
          "name": "stdout",
          "output_type": "stream",
          "text": [
            "0.31032171581769435\n"
          ]
        }
      ],
      "source": [
        "cnt=0\n",
        "for i in df['text']:\n",
        "    if(len(i.split())<=150):\n",
        "        cnt=cnt+1\n",
        "print(cnt/len(df['text']))"
      ]
    },
    {
      "cell_type": "markdown",
      "metadata": {
        "id": "mKc3wuxGe3GN"
      },
      "source": [
        "Selecting text and headlines below the maximum lengths"
      ]
    },
    {
      "cell_type": "code",
      "execution_count": 16,
      "metadata": {
        "id": "QVwgzEMIe0YY"
      },
      "outputs": [],
      "source": [
        "text1 =np.array(df['text'])\n",
        "headline1=np.array(df['headline'])\n",
        "\n",
        "short_text=[]\n",
        "short_summary=[]\n",
        "\n",
        "for i in range(len(text1)):\n",
        "    if(len(headline1[i].split())<=50 and len(text1[i].split())<=150):\n",
        "        short_text.append(text1[i])\n",
        "        short_summary.append(headline1[i])\n",
        "\n",
        "df=pd.DataFrame({'text':short_text,'summary':short_summary})"
      ]
    },
    {
      "cell_type": "code",
      "execution_count": 17,
      "metadata": {
        "id": "dvcB2AFJe5nC"
      },
      "outputs": [],
      "source": [
        "# Validating the lengths\n",
        "\n",
        "text1 =np.array(df['text'])\n",
        "headline1=np.array(df['summary'])\n",
        "\n",
        "\n",
        "for i in range(len(text1)):\n",
        "    if(len(headline1[i].split())>=150):\n",
        "      print(i)"
      ]
    },
    {
      "cell_type": "code",
      "execution_count": 18,
      "metadata": {
        "colab": {
          "base_uri": "https://localhost:8080/"
        },
        "id": "tYcH03qLe6sp",
        "outputId": "3e7ea19c-6d7f-4691-bc07-e33d2cdb1799"
      },
      "outputs": [
        {
          "name": "stdout",
          "output_type": "stream",
          "text": [
            "guy like every facebook status update instagram picture post better yet frequently comment posts sign wants interact may indicate likes look see comments people posts well comments frequently may reveal avid social media user however rarely likes comments posts sign might feelings publicly comments one photos posts respond eager start conversation way may reveal likes least enjoys messaging example may say great photo could respond saying vancouver last week beautiful city guy met starts liking commenting old photos sig interested means spent time looking back old photos probably wants know better enjoys looking pictures guy likes want connect follow variety different social media platforms example may add facebook snapchat start following twitter instagram adding number social media sites likely sign wants look posts photos selfies attempt get know better\n",
            "see interacts posts reply comments notice comments old pictures posts check see added multiple social media platforms\n"
          ]
        }
      ],
      "source": [
        "print(df['text'][50],df['summary'][50],sep='\\n')"
      ]
    },
    {
      "cell_type": "markdown",
      "metadata": {
        "id": "9osSaQmJe-s9"
      },
      "source": [
        "**Splitting data into train, test  --  70 - 30**"
      ]
    },
    {
      "cell_type": "code",
      "execution_count": 19,
      "metadata": {
        "id": "Xb5TVd5He8dA"
      },
      "outputs": [],
      "source": [
        "from sklearn.model_selection import train_test_split\n",
        "x_train,x_test,y_train,y_test=train_test_split(df['text'],df['summary'],test_size=0.3,random_state=0,shuffle=True)"
      ]
    },
    {
      "cell_type": "code",
      "execution_count": 20,
      "metadata": {
        "colab": {
          "base_uri": "https://localhost:8080/"
        },
        "id": "LYFhEegofAOE",
        "outputId": "af983236-d390-4c5d-e497-d46b47c3c726"
      },
      "outputs": [
        {
          "name": "stdout",
          "output_type": "stream",
          "text": [
            "294\n",
            "126\n"
          ]
        }
      ],
      "source": [
        "print(len(x_train))\n",
        "print(len(x_test))"
      ]
    },
    {
      "cell_type": "markdown",
      "metadata": {
        "id": "KsnA_isBfCEH"
      },
      "source": [
        "Language Translation Model"
      ]
    },
    {
      "cell_type": "code",
      "execution_count": 21,
      "metadata": {
        "id": "x3s-nOM9fBVy"
      },
      "outputs": [],
      "source": [
        "from __future__ import unicode_literals, print_function, division\n",
        "from io import open\n",
        "import unicodedata\n",
        "import string\n",
        "import re\n",
        "import random\n",
        "\n",
        "import torch\n",
        "import torch.nn as nn\n",
        "from torch import optim\n",
        "import torch.nn.functional as F\n",
        "\n",
        "device = torch.device(\"cuda\" if torch.cuda.is_available() else \"cpu\")"
      ]
    },
    {
      "cell_type": "code",
      "execution_count": 22,
      "metadata": {
        "id": "4FUR67hXfILP"
      },
      "outputs": [],
      "source": [
        "SOS_token = 0\n",
        "EOS_token = 1\n",
        "\n",
        "class Lang:\n",
        "    def __init__(self, name):\n",
        "        self.name = name\n",
        "        self.word2index = {}\n",
        "        self.index2word = {SOS_token: \"SOS\", EOS_token: \"EOS\"}\n",
        "        self.word2count = {}\n",
        "        self.n_words = 2  # Initially include SOS and EOS\n",
        "\n",
        "    def addSentence(self, sentence):\n",
        "        words = sentence.split()\n",
        "        for word in words:\n",
        "            self.addWord(word)\n",
        "\n",
        "    def addWord(self, word):\n",
        "        if word not in self.word2index:\n",
        "            self.word2index[word] = self.n_words\n",
        "            self.index2word[self.n_words] = word\n",
        "            self.word2count[word] = 1\n",
        "            self.n_words += 1\n",
        "        elif word in self.word2count:\n",
        "            self.word2count[word] += 1\n"
      ]
    },
    {
      "cell_type": "code",
      "execution_count": 23,
      "metadata": {
        "id": "BXc__27yfKZk"
      },
      "outputs": [],
      "source": [
        "def readLangs(text, summary, reverse=False):\n",
        "    print(\"Reading lines...\")\n",
        "\n",
        "    # Create arrays from text and summary\n",
        "    text_data = np.array(text)\n",
        "    summary_data = np.array(summary)\n",
        "\n",
        "    # Formulate pairs of text and summary\n",
        "    pairs = [[text_data[i], summary_data[i]] for i in range(len(text_data))]\n",
        "\n",
        "    # Optionally reverse pairs and adjust Lang instances accordingly\n",
        "    if reverse:\n",
        "        pairs = [pair[::-1] for pair in pairs]  # Reverse each pair\n",
        "        input_lang = Lang(summary)\n",
        "        output_lang = Lang(text)\n",
        "    else:\n",
        "        input_lang = Lang(text)\n",
        "        output_lang = Lang(summary)\n",
        "\n",
        "    return input_lang, output_lang, pairs\n"
      ]
    },
    {
      "cell_type": "code",
      "execution_count": 24,
      "metadata": {
        "id": "sNkG1MnOfMY6"
      },
      "outputs": [],
      "source": [
        "def prepareData(lang1, lang2, reverse=False):\n",
        "    input_lang, output_lang, pairs = readLangs(lang1, lang2, reverse)\n",
        "    total_pairs = len(pairs)\n",
        "    print(f\"Read {total_pairs} sentence pairs\")\n",
        "    print(\"Counting words...\")\n",
        "\n",
        "    for pair in pairs:\n",
        "        input_text, output_text = pair[0], pair[1]\n",
        "        input_lang.addSentence(input_text)\n",
        "        output_lang.addSentence(output_text)\n",
        "\n",
        "    print(\"Counted words:\")\n",
        "    print(f\"{input_lang.name}: {input_lang.n_words} words\")\n",
        "    print(f\"{output_lang.name}: {output_lang.n_words} words\")\n",
        "\n",
        "    return input_lang, output_lang, pairs\n"
      ]
    },
    {
      "cell_type": "code",
      "execution_count": 25,
      "metadata": {
        "colab": {
          "base_uri": "https://localhost:8080/"
        },
        "id": "AI95WhJdfN-D",
        "outputId": "cdb79343-61f6-48c4-8fd4-99b62ff9cfe9"
      },
      "outputs": [
        {
          "name": "stdout",
          "output_type": "stream",
          "text": [
            "Reading lines...\n",
            "Read 294 sentence pairs\n",
            "Counting words...\n",
            "Counted words:\n",
            "106    take time realize really likes get put friend ...\n",
            "378    simple toilet roll inner cardboard tube good c...\n",
            "63     little weird maybe secure feeling seem lot fri...\n",
            "289    serve hamster food treats small bowl go cerami...\n",
            "412    shirt constricting loose make riding difficult...\n",
            "                             ...                        \n",
            "323    many reasons may claim life hamster old age ex...\n",
            "192    tell plan get crush boyfriend girlfriends emai...\n",
            "117    facilities needs changed need renovations made...\n",
            "47     try ask personal questions might make feel unc...\n",
            "172    boyfriend girlfriend wants around always grace...\n",
            "Name: text, Length: 294, dtype: object: 5134 words\n",
            "106    hard text call friend call cute terminology gi...\n",
            "378    try make toys much possible buy plastic platfo...\n",
            "63     first met boy initial vibe creepy nosy think m...\n",
            "289    prepare food bowl introduce new foods small am...\n",
            "412    choose something comfortable wear body protect...\n",
            "                             ...                        \n",
            "323    recognize signs talk someone help consider ham...\n",
            "192    get together two three friends class together ...\n",
            "117    assess area hold fundraiser enough money repai...\n",
            "47     talk friends friends always try make eye conta...\n",
            "172    look signs know limits make sure person ready ...\n",
            "Name: summary, Length: 294, dtype: object: 1837 words\n",
            "['breakups often interfere ability take care breakup many people lose sleep reduced appetites feel depressed people even suicidal thoughts make sure eat enough get hours sleep drink enough water friends family support network would love spend time hang talk even plan fun activity enjoy could valuable distraction thoughts ex whether eating favorite restaurant chatting old friend taking walk bath shower something love definitely help enjoy life', 'take care make time friends family something love']\n"
          ]
        }
      ],
      "source": [
        "input_lang, output_lang, pairs = prepareData(x_train, y_train , False)\n",
        "print(random.choice(pairs))"
      ]
    },
    {
      "cell_type": "markdown",
      "metadata": {
        "id": "a7m31nE3fWqz"
      },
      "source": [
        "Deep Model"
      ]
    },
    {
      "cell_type": "code",
      "execution_count": 26,
      "metadata": {
        "id": "O5DMPIAVfY-r"
      },
      "outputs": [],
      "source": [
        "def indexesFromSentence(lang, sentence):\n",
        "    words = sentence.split(' ')\n",
        "    return [lang.word2index[word] for word in words]\n",
        "\n",
        "def tensorFromSentence(lang, sentence):\n",
        "    sentence_indexes = indexesFromSentence(lang, sentence)\n",
        "    sentence_indexes += [EOS_token]  # Append EOS token directly\n",
        "    return torch.tensor(sentence_indexes, dtype=torch.long, device=device).view(-1, 1)\n",
        "\n",
        "def tensorsFromPair(pair):\n",
        "    input_text, target_text = pair  # Unpacking pair for clarity\n",
        "    input_tensor = tensorFromSentence(input_lang, input_text)\n",
        "    target_tensor = tensorFromSentence(output_lang, target_text)\n",
        "    return input_tensor, target_tensor\n"
      ]
    },
    {
      "cell_type": "code",
      "execution_count": 27,
      "metadata": {
        "id": "oC_7am4mfaAL"
      },
      "outputs": [],
      "source": [
        "from __future__ import division, print_function, unicode_literals\n",
        "from io import open\n",
        "import random\n",
        "import re\n",
        "import string\n",
        "import unicodedata\n",
        "\n",
        "import torch\n",
        "import torch.nn as nn\n",
        "import torch.nn.functional as F\n",
        "from torch import optim\n",
        "\n",
        "# Determine if CUDA is available, and set the device accordingly\n",
        "device = torch.device(\"cuda\" if torch.cuda.is_available() else \"cpu\")\n"
      ]
    },
    {
      "cell_type": "code",
      "execution_count": 28,
      "metadata": {
        "id": "zVWgewjGfblN"
      },
      "outputs": [],
      "source": [
        "class EncoderRNN(nn.Module):\n",
        "    def __init__(self, input_size, hidden_size):\n",
        "        super(EncoderRNN, self).__init__()\n",
        "        self.hidden_size = hidden_size\n",
        "\n",
        "        self.embedding = nn.Embedding(input_size, hidden_size)\n",
        "        self.gru = nn.GRU(hidden_size, hidden_size)\n",
        "\n",
        "    def forward(self, input, hidden):\n",
        "        embedded = self.embedding(input).view(1, 1, -1)\n",
        "        output = embedded\n",
        "        output, hidden = self.gru(output, hidden)\n",
        "        return output, hidden\n",
        "\n",
        "    def initHidden(self):\n",
        "        return torch.zeros(1, 1, self.hidden_size, device=device)"
      ]
    },
    {
      "cell_type": "code",
      "execution_count": 29,
      "metadata": {
        "id": "-CD6w3XQfloq"
      },
      "outputs": [],
      "source": [
        "class DecoderRNN(nn.Module):\n",
        "    def __init__(self, hidden_size, output_size):\n",
        "        super().__init__()  # Simplified super() call\n",
        "        self.hidden_size = hidden_size\n",
        "\n",
        "        # Layer definitions\n",
        "        self.embedding_layer = nn.Embedding(num_embeddings=output_size, embedding_dim=hidden_size)\n",
        "        self.gru_layer = nn.GRU(input_size=hidden_size, hidden_size=hidden_size)\n",
        "        self.output_layer = nn.Linear(in_features=hidden_size, out_features=output_size)\n",
        "        self.log_softmax = nn.LogSoftmax(dim=1)\n",
        "\n",
        "    def forward(self, input_tensor, hidden_state):\n",
        "        # Embedding and activation\n",
        "        embedded = self.embedding_layer(input_tensor).view(1, 1, -1)\n",
        "        activated_output = F.relu(embedded)\n",
        "        # GRU processing\n",
        "        output, hidden_state = self.gru_layer(activated_output, hidden_state)\n",
        "        # Output processing\n",
        "        output = self.log_softmax(self.output_layer(output[0]))\n",
        "        return output, hidden_state\n",
        "\n",
        "    def initHidden(self):\n",
        "        # Initializes and returns a new hidden state\n",
        "        return torch.zeros(1, 1, self.hidden_size, device=device)\n"
      ]
    },
    {
      "cell_type": "code",
      "execution_count": 30,
      "metadata": {
        "id": "4jLJEQpPfnV4"
      },
      "outputs": [],
      "source": [
        "MAX_LENGTH = 150"
      ]
    },
    {
      "cell_type": "code",
      "execution_count": 31,
      "metadata": {
        "id": "_BgSwYNNfpWH"
      },
      "outputs": [],
      "source": [
        "import torch\n",
        "import torch.nn as nn\n",
        "import torch.nn.functional as F\n",
        "\n",
        "class AttnDecoderRNN(nn.Module):\n",
        "    def __init__(self, hidden_size, output_size, dropout_p=0.1, max_length=MAX_LENGTH):\n",
        "        super(AttnDecoderRNN, self).__init__()\n",
        "        self.hidden_size = hidden_size\n",
        "        self.output_size = output_size\n",
        "        self.dropout_p = dropout_p\n",
        "        self.max_length = max_length\n",
        "\n",
        "        self.embedding = nn.Embedding(self.output_size, self.hidden_size)\n",
        "        self.attn = nn.Linear(self.hidden_size * 2, self.max_length)\n",
        "        self.attn_combine = nn.Linear(self.hidden_size * 2, self.hidden_size)\n",
        "        self.dropout = nn.Dropout(self.dropout_p)\n",
        "        self.gru_layer = nn.GRU(self.hidden_size, self.hidden_size)\n",
        "\n",
        "        self.out = nn.Linear(self.hidden_size, self.output_size)  # ✅ Required for output to vocab\n",
        "\n",
        "    def forward(self, input_tensor, hidden_state, encoder_outputs):\n",
        "        embedded = self.embedding(input_tensor).view(1, 1, -1)\n",
        "        embedded = self.dropout(embedded)\n",
        "\n",
        "        attn_weights = F.softmax(\n",
        "            self.attn(torch.cat((embedded[0], hidden_state[0]), 1)), dim=1\n",
        "        )\n",
        "\n",
        "        attn_applied = torch.bmm(attn_weights.unsqueeze(0),\n",
        "                                 encoder_outputs.unsqueeze(0))\n",
        "\n",
        "        output = torch.cat((embedded[0], attn_applied[0]), 1)\n",
        "        output = self.attn_combine(output).unsqueeze(0)\n",
        "\n",
        "        output = F.relu(output)\n",
        "        output, hidden_state = self.gru_layer(output, hidden_state)\n",
        "\n",
        "        output = self.out(output[0])  # → shape [1, vocab_size]\n",
        "        output = F.log_softmax(output, dim=1)  # ✅ required by NLLLoss\n",
        "\n",
        "        return output, hidden_state, attn_weights\n"
      ]
    },
    {
      "cell_type": "code",
      "execution_count": 32,
      "metadata": {
        "id": "lNbZhLkwfrT3"
      },
      "outputs": [],
      "source": [
        "def indexesFromSentence(lang, sentence):\n",
        "    # Extract indexes from the sentence\n",
        "    return [lang.word2index[word] for word in sentence.split(' ')]\n",
        "\n",
        "def tensorFromSentence(lang, sentence):\n",
        "    # Create a tensor from the indexes of the sentence with EOS token appended\n",
        "    indexes = indexesFromSentence(lang, sentence)\n",
        "    indexes += [EOS_token]  # Adding EOS token at the end of the sentence\n",
        "    return torch.tensor(indexes, dtype=torch.long, device=device).reshape(-1, 1)\n",
        "\n",
        "def tensorsFromPair(pair):\n",
        "    # Generate input and target tensors from a pair of sentences\n",
        "    input_tensor = tensorFromSentence(input_lang, pair[0])\n",
        "    target_tensor = tensorFromSentence(output_lang, pair[1])\n",
        "    return input_tensor, target_tensor\n"
      ]
    },
    {
      "cell_type": "code",
      "execution_count": 33,
      "metadata": {
        "id": "rmVp28I4gx0L"
      },
      "outputs": [],
      "source": [
        "import time\n",
        "import math\n",
        "\n",
        "def asMinutes(seconds):\n",
        "    minutes = int(seconds // 60)\n",
        "    seconds = int(seconds % 60)\n",
        "    return f'{minutes}m {seconds}s'\n",
        "\n",
        "def timeSince(start_time, progress):\n",
        "    current_time = time.time()\n",
        "    elapsed_time = current_time - start_time\n",
        "    estimated_total_time = elapsed_time / progress\n",
        "    remaining_time = estimated_total_time - elapsed_time\n",
        "    return f'{asMinutes(elapsed_time)} (- {asMinutes(remaining_time)})'\n"
      ]
    },
    {
      "cell_type": "code",
      "execution_count": 34,
      "metadata": {
        "id": "PowpwxXyKTeT"
      },
      "outputs": [],
      "source": [
        "import matplotlib.pyplot as plt\n",
        "import matplotlib.ticker as ticker\n",
        "import numpy as np\n",
        "\n",
        "plt.switch_backend('agg')  # Ensuring the backend is set for non-interactive environments\n",
        "\n",
        "def showPlot(data_points):\n",
        "    plt.figure()  # Initializes a new figure\n",
        "    _, ax = plt.subplots()  # Creates a subplot and discards the figure object with _\n",
        "\n",
        "    # Configure the y-axis to place ticks at regular intervals\n",
        "    interval_locator = ticker.MultipleLocator(base=0.2)\n",
        "    ax.yaxis.set_major_locator(interval_locator)\n",
        "\n",
        "    # Plot the data points provided to the function\n",
        "    ax.plot(data_points)  # Use ax.plot for clarity in context of object-oriented approach\n"
      ]
    },
    {
      "cell_type": "code",
      "execution_count": 35,
      "metadata": {
        "id": "ne_OJj66ftIT"
      },
      "outputs": [],
      "source": [
        "teacher_forcing_ratio = 0.5\n",
        "\n",
        "def train(input_tensor, target_tensor, encoder, decoder, encoder_optimizer, decoder_optimizer, loss_function, max_length=MAX_LENGTH):\n",
        "    # Initialize hidden state for encoder\n",
        "    encoder_hidden = encoder.initHidden()\n",
        "\n",
        "    # Reset gradients\n",
        "    encoder_optimizer.zero_grad()\n",
        "    decoder_optimizer.zero_grad()\n",
        "\n",
        "    # Prepare tensor dimensions\n",
        "    input_length = input_tensor.size(0)\n",
        "    target_length = target_tensor.size(0)\n",
        "\n",
        "    # Create a zero-filled matrix for encoder outputs\n",
        "    encoder_outputs = torch.zeros(max_length, encoder.hidden_size, device=device)\n",
        "\n",
        "    total_loss = 0\n",
        "\n",
        "    # Encoding phase\n",
        "    for ei in range(input_length):\n",
        "        encoder_output, encoder_hidden = encoder(input_tensor[ei], encoder_hidden)\n",
        "        encoder_outputs[ei] = encoder_output[0, 0]\n",
        "\n",
        "    # Decoding phase\n",
        "    decoder_input = torch.tensor([[SOS_token]], device=device)\n",
        "    decoder_hidden = encoder_hidden\n",
        "\n",
        "    # Decide whether to use teacher forcing\n",
        "    apply_teacher_forcing = random.random() < teacher_forcing_ratio\n",
        "\n",
        "    if apply_teacher_forcing:\n",
        "        # Teacher forcing: next input is current target\n",
        "        for di in range(target_length):\n",
        "            decoder_output, decoder_hidden, _ = decoder(\n",
        "                decoder_input, decoder_hidden, encoder_outputs)\n",
        "            total_loss = loss_function(decoder_output, target_tensor[di].view(-1))\n",
        "            decoder_input = target_tensor[di]  # Next input from target tensor\n",
        "    else:\n",
        "        # No teacher forcing: next input is decoder's own current output\n",
        "        for di in range(target_length):\n",
        "            decoder_output, decoder_hidden, _ = decoder(\n",
        "                decoder_input, decoder_hidden, encoder_outputs)\n",
        "            top_value, top_index = decoder_output.topk(1)\n",
        "            decoder_input = top_index.squeeze().detach()\n",
        "\n",
        "            total_loss = loss_function(decoder_output, target_tensor[di].view(-1))\n",
        "            if decoder_input.item() == EOS_token:\n",
        "                break\n",
        "\n",
        "    # Perform backpropagation\n",
        "    total_loss.backward()\n",
        "\n",
        "    # Update weights\n",
        "    encoder_optimizer.step()\n",
        "    decoder_optimizer.step()\n",
        "\n",
        "    # Calculate average loss\n",
        "    return total_loss.item() / target_length\n"
      ]
    },
    {
      "cell_type": "code",
      "execution_count": 36,
      "metadata": {
        "id": "hkUmPPWOfuw_"
      },
      "outputs": [],
      "source": [
        "import matplotlib.pyplot as plt\n",
        "import matplotlib.ticker as ticker\n",
        "import torch.optim as optim\n",
        "import torch.nn as nn\n",
        "import random\n",
        "import time\n",
        "\n",
        "def showPlot(points, should_save=False):\n",
        "    plt.figure()\n",
        "    plt.plot(points)\n",
        "    plt.title('Training Loss Over Time')\n",
        "    plt.xlabel('Number of Iterations')\n",
        "    plt.ylabel('Loss')\n",
        "    plt.grid(True)\n",
        "    if should_save:\n",
        "        plt.savefig('training_loss_plot.png')  # Save to file if display is not supported\n",
        "    else:\n",
        "        plt.show()\n",
        "\n",
        "def trainIters(encoder, decoder, num_iterations, print_interval=100, learning_rate=0.01):\n",
        "    start_time = time.time()\n",
        "    print(\"Starting training...\")\n",
        "\n",
        "    loss_recordings = []\n",
        "    cumulative_print_loss = 0\n",
        "\n",
        "    # Initialize optimizers\n",
        "    encoder_opt = optim.SGD(encoder.parameters(), lr=learning_rate)\n",
        "    decoder_opt = optim.SGD(decoder.parameters(), lr=learning_rate)\n",
        "    loss_criterion = nn.NLLLoss()\n",
        "\n",
        "    # Training on a smaller dataset for quick checking\n",
        "    small_dataset = random.sample(pairs, min(100, len(pairs)))\n",
        "\n",
        "    for iteration in range(1, num_iterations + 1):\n",
        "        training_pair = tensorsFromPair(random.choice(small_dataset))\n",
        "        input_tensor = training_pair[0]\n",
        "        target_tensor = training_pair[1]\n",
        "\n",
        "        if input_tensor.size(0) > 150:  # Skip if input length exceeds max_length to prevent IndexError\n",
        "            continue\n",
        "\n",
        "        loss = train(input_tensor, target_tensor, encoder, decoder, encoder_opt, decoder_opt, loss_criterion)\n",
        "        cumulative_print_loss += loss\n",
        "\n",
        "        if iteration % print_interval == 0:\n",
        "            print_avg_loss = cumulative_print_loss / print_interval\n",
        "            cumulative_print_loss = 0\n",
        "            print(f'Iteration {iteration}, {iteration / num_iterations * 100:.2f}%, Avg loss: {print_avg_loss:.4f}')\n",
        "            print(f'Time elapsed: {timeSince(start_time, float(iteration) / num_iterations)}')\n",
        "            loss_recordings.append(print_avg_loss)\n",
        "\n",
        "    # Plot the losses after training\n",
        "    showPlot(loss_recordings, should_save=True)\n",
        "\n",
        "\n"
      ]
    },
    {
      "cell_type": "code",
      "execution_count": 37,
      "metadata": {
        "id": "k8AL_zkWfwRG"
      },
      "outputs": [],
      "source": [
        "def evaluate(encoder, decoder, sentence, max_length=MAX_LENGTH):\n",
        "    with torch.no_grad():\n",
        "        input_tensor = tensorFromSentence(input_lang, sentence)\n",
        "        input_length = input_tensor.size()[0]\n",
        "        encoder_hidden = encoder.initHidden()\n",
        "\n",
        "        encoder_outputs = torch.zeros(max_length, encoder.hidden_size, device=device)\n",
        "\n",
        "        for ei in range(input_length):\n",
        "            encoder_output, encoder_hidden = encoder(input_tensor[ei],\n",
        "                                                     encoder_hidden)\n",
        "            encoder_outputs[ei] += encoder_output[0, 0]\n",
        "\n",
        "        decoder_input = torch.tensor([[SOS_token]], device=device)  # SOS\n",
        "\n",
        "        decoder_hidden = encoder_hidden\n",
        "\n",
        "        decoded_words = []\n",
        "        decoder_attentions = torch.zeros(max_length, max_length)\n",
        "\n",
        "        for di in range(max_length):\n",
        "            decoder_output, decoder_hidden, decoder_attention = decoder(\n",
        "                decoder_input, decoder_hidden, encoder_outputs)\n",
        "            decoder_attentions[di] = decoder_attention.data\n",
        "            topv, topi = decoder_output.data.topk(1)\n",
        "            if topi.item() == EOS_token:\n",
        "                decoded_words.append('')\n",
        "                break\n",
        "            else:\n",
        "                decoded_words.append(output_lang.index2word[topi.item()])\n",
        "\n",
        "            decoder_input = topi.squeeze().detach()\n",
        "\n",
        "        return decoded_words, decoder_attentions[:di + 1]"
      ]
    },
    {
      "cell_type": "code",
      "execution_count": 38,
      "metadata": {
        "colab": {
          "base_uri": "https://localhost:8080/"
        },
        "id": "_E9u7A6_fx08",
        "outputId": "918dc7c4-88b2-4e84-ec25-ad77f030b9c3"
      },
      "outputs": [
        {
          "name": "stdout",
          "output_type": "stream",
          "text": [
            "Starting training...\n",
            "Iteration 10, 10.00%, Avg loss: 0.3107\n",
            "Time elapsed: 0m 1s (- 0m 15s)\n",
            "Iteration 20, 20.00%, Avg loss: 0.6960\n",
            "Time elapsed: 0m 2s (- 0m 11s)\n",
            "Iteration 30, 30.00%, Avg loss: 0.5242\n",
            "Time elapsed: 0m 4s (- 0m 9s)\n",
            "Iteration 40, 40.00%, Avg loss: 0.4377\n",
            "Time elapsed: 0m 5s (- 0m 7s)\n",
            "Iteration 50, 50.00%, Avg loss: 0.3916\n",
            "Time elapsed: 0m 6s (- 0m 6s)\n",
            "Iteration 60, 60.00%, Avg loss: 0.5450\n",
            "Time elapsed: 0m 7s (- 0m 4s)\n",
            "Iteration 70, 70.00%, Avg loss: 0.2992\n",
            "Time elapsed: 0m 8s (- 0m 3s)\n",
            "Iteration 80, 80.00%, Avg loss: 0.3204\n",
            "Time elapsed: 0m 9s (- 0m 2s)\n",
            "Iteration 90, 90.00%, Avg loss: 0.2128\n",
            "Time elapsed: 0m 10s (- 0m 1s)\n",
            "Iteration 100, 100.00%, Avg loss: 0.0676\n",
            "Time elapsed: 0m 11s (- 0m 0s)\n"
          ]
        }
      ],
      "source": [
        "# Define hidden size and initialize models for a quick training run\n",
        "hidden_size = 300\n",
        "encoder1 = EncoderRNN(input_lang.n_words, hidden_size).to(device)\n",
        "attn_decoder1 = AttnDecoderRNN(hidden_size, output_lang.n_words, dropout_p=0.1).to(device)\n",
        "\n",
        "# Execute the quick training session\n",
        "trainIters(encoder1, attn_decoder1, num_iterations=100, print_interval=10)"
      ]
    },
    {
      "cell_type": "code",
      "execution_count": 39,
      "metadata": {
        "id": "YLZ7VfobxmCY"
      },
      "outputs": [],
      "source": [
        "def evaluateRandomly(encoder, decoder, n=5):\n",
        "    text=list()\n",
        "    headline=list()\n",
        "    pred_headline=list()\n",
        "    for i in range(n):\n",
        "        pair = random.choice(pairs)\n",
        "\n",
        "        if(len(pair[0].split())>=150):\n",
        "          continue\n",
        "        else:\n",
        "          if(i%1000==0):\n",
        "            print(i*100/n,\"% complete\")\n",
        "\n",
        "          #print('>', pair[0])\n",
        "          text.append(pair[0])\n",
        "          #print('=', pair[1])\n",
        "          headline.append(pair[1])\n",
        "          output_words, attentions = evaluate(encoder, decoder, pair[0])\n",
        "          output_sentence = ' '.join(output_words)\n",
        "          pred_headline.append(output_sentence)\n",
        "          #print('<', output_sentence)\n",
        "          #print('')\n",
        "    return(text,headline,pred_headline)"
      ]
    },
    {
      "cell_type": "code",
      "execution_count": 40,
      "metadata": {
        "colab": {
          "base_uri": "https://localhost:8080/"
        },
        "id": "xiSq40ZBxmAB",
        "outputId": "aaa28e73-2ee2-4b45-a242-90fc3ff0fd46"
      },
      "outputs": [
        {
          "name": "stdout",
          "output_type": "stream",
          "text": [
            "0.0 % complete\n",
            "6.666666666666667 % complete\n",
            "13.333333333333334 % complete\n",
            "20.0 % complete\n",
            "26.666666666666668 % complete\n",
            "33.333333333333336 % complete\n",
            "40.0 % complete\n",
            "46.666666666666664 % complete\n",
            "53.333333333333336 % complete\n",
            "60.0 % complete\n",
            "66.66666666666667 % complete\n",
            "73.33333333333333 % complete\n",
            "80.0 % complete\n",
            "86.66666666666667 % complete\n",
            "93.33333333333333 % complete\n"
          ]
        }
      ],
      "source": [
        "text,headline,pred_headline=evaluateRandomly(encoder1, attn_decoder1,15000)\n",
        "\n",
        "pred_df_GRU=pd.DataFrame()\n",
        "\n",
        "pred_df_GRU['text']=text\n",
        "pred_df_GRU['headline']=headline\n",
        "pred_df_GRU['pred_headline']=pred_headline"
      ]
    },
    {
      "cell_type": "code",
      "execution_count": 43,
      "metadata": {
        "id": "L6_hozC76P9g"
      },
      "outputs": [
        {
          "name": "stderr",
          "output_type": "stream",
          "text": [
            "[nltk_data] Downloading package punkt to\n",
            "[nltk_data]     /Users/anuraagreddy/nltk_data...\n",
            "[nltk_data]   Package punkt is already up-to-date!\n"
          ]
        }
      ],
      "source": [
        "import pandas as pd\n",
        "import os\n",
        "from rouge import Rouge\n",
        "import nltk\n",
        "import matplotlib.pyplot as plt\n",
        "import matplotlib.ticker as ticker\n",
        "\n",
        "# Ensure nltk's punkt package is downloaded (necessary for tokenization)\n",
        "nltk.download('punkt')\n",
        "\n",
        "rouge = Rouge()\n",
        "\n",
        "def evaluateRandomly(encoder, decoder, n=5):\n",
        "    text, headline, pred_headline = [], [], []\n",
        "    for i in range(n):\n",
        "        pair = random.choice(pairs)\n",
        "        if len(pair[0].split()) < 150:\n",
        "            output_words, _ = evaluate(encoder, decoder, pair[0])\n",
        "            text.append(pair[0])\n",
        "            headline.append(pair[1])\n",
        "            pred_headline.append(' '.join(output_words))\n",
        "    return text, headline, pred_headline\n",
        "\n",
        "def calculate_rouge(src_trg, pred_trg):\n",
        "    pred_trg = pred_trg[:-6]  # assuming pred_trg ends with <eos>\n",
        "    if len(pred_trg) == 0:\n",
        "        rouge_score = 0.0\n",
        "    else:\n",
        "        scores = rouge.get_scores(pred_trg, src_trg, avg=True)\n",
        "        rouge_score = scores['rouge-1']['f']\n",
        "    return rouge_score\n",
        "\n",
        "# Define the threshold for plotting attention\n",
        "attn_plot_threshold = 0.25  # Set this to a reasonable value based on your model's typical scores\n",
        "\n",
        "def evaluateAndPrint(encoder, decoder, n=5):\n",
        "    for i in range(n):\n",
        "        pair = random.choice(pairs)\n",
        "        if len(pair[0].split()) < 150:\n",
        "            output_words, attentions = evaluate(encoder, decoder, pair[0])\n",
        "            score = calculate_rouge(pair[1], ' '.join(output_words))  # should compare against reference headline\n",
        "            if score > attn_plot_threshold:\n",
        "                plot_attention(nltk.word_tokenize(pair[0]), output_words, attentions, i)\n",
        "\n",
        "def plot_attention(sentence, predicted_sentence, attention, index):\n",
        "    plt.figure(figsize=(30,30))\n",
        "    ax = plt.gca()\n",
        "    ax.matshow(attention, cmap='bone')\n",
        "    ax.set_xticklabels([''] + ['<sos>'] + [t.lower() for t in sentence] + ['<eos>'], rotation=90)\n",
        "    ax.set_yticklabels([''] + predicted_sentence)\n",
        "    ax.xaxis.set_major_locator(ticker.MultipleLocator(3))\n",
        "    ax.yaxis.set_major_locator(ticker.MultipleLocator(3))\n",
        "    plt.show()\n",
        "\n",
        "# Use the functions above\n",
        "enc_model, dec_model = EncoderRNN(input_lang.n_words, hidden_size).to(device), AttnDecoderRNN(hidden_size, output_lang.n_words, dropout_p=0.1).to(device)\n",
        "text, headline, pred_headline = evaluateRandomly(enc_model, dec_model, 10)  # Adjusted for a smaller number for demonstration\n",
        "\n",
        "# Save predictions to CSV\n",
        "pred_df_GRU = pd.DataFrame({'text': text, 'headline': headline, 'pred_headline': pred_headline})\n",
        "pred_df_GRU.to_csv(\"/Users/anuraagreddy/Desktop/MS(UIC)/Spring '25/CS 521 (SNLP)/Stat NLP Project/CS521_TextSummarization_Project/GRU_Prediction_Results.csv\", sep='\\t', index=False)\n",
        "\n",
        "# Evaluate and print attentions\n",
        "evaluateAndPrint(enc_model, dec_model, 10)  # Adjusted for a smaller number for demonstration\n"
      ]
    }
  ],
  "metadata": {
    "colab": {
      "machine_shape": "hm",
      "provenance": []
    },
    "kernelspec": {
      "display_name": "Python 3.8 (tensorflow)",
      "language": "python",
      "name": "tensorflow"
    },
    "language_info": {
      "codemirror_mode": {
        "name": "ipython",
        "version": 3
      },
      "file_extension": ".py",
      "mimetype": "text/x-python",
      "name": "python",
      "nbconvert_exporter": "python",
      "pygments_lexer": "ipython3",
      "version": "3.10.15"
    }
  },
  "nbformat": 4,
  "nbformat_minor": 0
}
